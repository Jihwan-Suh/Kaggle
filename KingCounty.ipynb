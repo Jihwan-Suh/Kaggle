{
 "cells": [
  {
   "cell_type": "markdown",
   "metadata": {},
   "source": [
    "# Kaggle 데이터를 통한 부동산 데이터 분석 연습\n",
    "### Kaggle의 House Sales in King County, USA 데이터를 이용하여 EDA 및 분석을 연습 해봤습니다.\n"
   ]
  },
  {
   "cell_type": "code",
   "execution_count": 44,
   "metadata": {},
   "outputs": [],
   "source": [
    "import pandas as pd\n",
    "import numpy as np\n",
    "import matplotlib.pyplot as plt\n",
    "import seaborn as sns\n",
    "from matplotlib import rcParams\n",
    "import scipy.stats as st\n",
    "from scipy import stats \n",
    "import warnings\n",
    "warnings.filterwarnings('ignore')"
   ]
  },
  {
   "cell_type": "code",
   "execution_count": 45,
   "metadata": {},
   "outputs": [],
   "source": [
    "df_usa = pd.read_csv(\"kc_house_data.csv\")"
   ]
  },
  {
   "cell_type": "code",
   "execution_count": 46,
   "metadata": {},
   "outputs": [
    {
     "data": {
      "text/html": [
       "<div>\n",
       "<style scoped>\n",
       "    .dataframe tbody tr th:only-of-type {\n",
       "        vertical-align: middle;\n",
       "    }\n",
       "\n",
       "    .dataframe tbody tr th {\n",
       "        vertical-align: top;\n",
       "    }\n",
       "\n",
       "    .dataframe thead th {\n",
       "        text-align: right;\n",
       "    }\n",
       "</style>\n",
       "<table border=\"1\" class=\"dataframe\">\n",
       "  <thead>\n",
       "    <tr style=\"text-align: right;\">\n",
       "      <th></th>\n",
       "      <th>id</th>\n",
       "      <th>price</th>\n",
       "      <th>bedrooms</th>\n",
       "      <th>bathrooms</th>\n",
       "      <th>sqft_living</th>\n",
       "      <th>sqft_lot</th>\n",
       "      <th>floors</th>\n",
       "      <th>waterfront</th>\n",
       "      <th>view</th>\n",
       "      <th>condition</th>\n",
       "      <th>...</th>\n",
       "      <th>sqft_above</th>\n",
       "      <th>sqft_basement</th>\n",
       "      <th>yr_built</th>\n",
       "      <th>yr_renovated</th>\n",
       "      <th>zipcode</th>\n",
       "      <th>lat</th>\n",
       "      <th>long</th>\n",
       "      <th>sqft_living15</th>\n",
       "      <th>sqft_lot15</th>\n",
       "      <th>date</th>\n",
       "    </tr>\n",
       "  </thead>\n",
       "  <tbody>\n",
       "    <tr>\n",
       "      <th>0</th>\n",
       "      <td>7129300520</td>\n",
       "      <td>221900.0</td>\n",
       "      <td>3</td>\n",
       "      <td>1.00</td>\n",
       "      <td>1180</td>\n",
       "      <td>5650</td>\n",
       "      <td>1.0</td>\n",
       "      <td>0</td>\n",
       "      <td>0</td>\n",
       "      <td>3</td>\n",
       "      <td>...</td>\n",
       "      <td>1180</td>\n",
       "      <td>0</td>\n",
       "      <td>1955</td>\n",
       "      <td>0</td>\n",
       "      <td>98178</td>\n",
       "      <td>47.5112</td>\n",
       "      <td>-122.257</td>\n",
       "      <td>1340</td>\n",
       "      <td>5650</td>\n",
       "      <td>2014</td>\n",
       "    </tr>\n",
       "    <tr>\n",
       "      <th>1</th>\n",
       "      <td>6414100192</td>\n",
       "      <td>538000.0</td>\n",
       "      <td>3</td>\n",
       "      <td>2.25</td>\n",
       "      <td>2570</td>\n",
       "      <td>7242</td>\n",
       "      <td>2.0</td>\n",
       "      <td>0</td>\n",
       "      <td>0</td>\n",
       "      <td>3</td>\n",
       "      <td>...</td>\n",
       "      <td>2170</td>\n",
       "      <td>400</td>\n",
       "      <td>1951</td>\n",
       "      <td>1991</td>\n",
       "      <td>98125</td>\n",
       "      <td>47.7210</td>\n",
       "      <td>-122.319</td>\n",
       "      <td>1690</td>\n",
       "      <td>7639</td>\n",
       "      <td>2014</td>\n",
       "    </tr>\n",
       "    <tr>\n",
       "      <th>2</th>\n",
       "      <td>5631500400</td>\n",
       "      <td>180000.0</td>\n",
       "      <td>2</td>\n",
       "      <td>1.00</td>\n",
       "      <td>770</td>\n",
       "      <td>10000</td>\n",
       "      <td>1.0</td>\n",
       "      <td>0</td>\n",
       "      <td>0</td>\n",
       "      <td>3</td>\n",
       "      <td>...</td>\n",
       "      <td>770</td>\n",
       "      <td>0</td>\n",
       "      <td>1933</td>\n",
       "      <td>0</td>\n",
       "      <td>98028</td>\n",
       "      <td>47.7379</td>\n",
       "      <td>-122.233</td>\n",
       "      <td>2720</td>\n",
       "      <td>8062</td>\n",
       "      <td>2015</td>\n",
       "    </tr>\n",
       "    <tr>\n",
       "      <th>3</th>\n",
       "      <td>2487200875</td>\n",
       "      <td>604000.0</td>\n",
       "      <td>4</td>\n",
       "      <td>3.00</td>\n",
       "      <td>1960</td>\n",
       "      <td>5000</td>\n",
       "      <td>1.0</td>\n",
       "      <td>0</td>\n",
       "      <td>0</td>\n",
       "      <td>5</td>\n",
       "      <td>...</td>\n",
       "      <td>1050</td>\n",
       "      <td>910</td>\n",
       "      <td>1965</td>\n",
       "      <td>0</td>\n",
       "      <td>98136</td>\n",
       "      <td>47.5208</td>\n",
       "      <td>-122.393</td>\n",
       "      <td>1360</td>\n",
       "      <td>5000</td>\n",
       "      <td>2014</td>\n",
       "    </tr>\n",
       "    <tr>\n",
       "      <th>4</th>\n",
       "      <td>1954400510</td>\n",
       "      <td>510000.0</td>\n",
       "      <td>3</td>\n",
       "      <td>2.00</td>\n",
       "      <td>1680</td>\n",
       "      <td>8080</td>\n",
       "      <td>1.0</td>\n",
       "      <td>0</td>\n",
       "      <td>0</td>\n",
       "      <td>3</td>\n",
       "      <td>...</td>\n",
       "      <td>1680</td>\n",
       "      <td>0</td>\n",
       "      <td>1987</td>\n",
       "      <td>0</td>\n",
       "      <td>98074</td>\n",
       "      <td>47.6168</td>\n",
       "      <td>-122.045</td>\n",
       "      <td>1800</td>\n",
       "      <td>7503</td>\n",
       "      <td>2015</td>\n",
       "    </tr>\n",
       "  </tbody>\n",
       "</table>\n",
       "<p>5 rows × 21 columns</p>\n",
       "</div>"
      ],
      "text/plain": [
       "           id     price  bedrooms  bathrooms  sqft_living  sqft_lot  floors  \\\n",
       "0  7129300520  221900.0         3       1.00         1180      5650     1.0   \n",
       "1  6414100192  538000.0         3       2.25         2570      7242     2.0   \n",
       "2  5631500400  180000.0         2       1.00          770     10000     1.0   \n",
       "3  2487200875  604000.0         4       3.00         1960      5000     1.0   \n",
       "4  1954400510  510000.0         3       2.00         1680      8080     1.0   \n",
       "\n",
       "   waterfront  view  condition  ...   sqft_above  sqft_basement  yr_built  \\\n",
       "0           0     0          3  ...         1180              0      1955   \n",
       "1           0     0          3  ...         2170            400      1951   \n",
       "2           0     0          3  ...          770              0      1933   \n",
       "3           0     0          5  ...         1050            910      1965   \n",
       "4           0     0          3  ...         1680              0      1987   \n",
       "\n",
       "   yr_renovated  zipcode      lat     long  sqft_living15  sqft_lot15  date  \n",
       "0             0    98178  47.5112 -122.257           1340        5650  2014  \n",
       "1          1991    98125  47.7210 -122.319           1690        7639  2014  \n",
       "2             0    98028  47.7379 -122.233           2720        8062  2015  \n",
       "3             0    98136  47.5208 -122.393           1360        5000  2014  \n",
       "4             0    98074  47.6168 -122.045           1800        7503  2015  \n",
       "\n",
       "[5 rows x 21 columns]"
      ]
     },
     "execution_count": 46,
     "metadata": {},
     "output_type": "execute_result"
    }
   ],
   "source": [
    "df_usa.head()"
   ]
  },
  {
   "cell_type": "code",
   "execution_count": 47,
   "metadata": {},
   "outputs": [
    {
     "name": "stdout",
     "output_type": "stream",
     "text": [
      "(21613, 21)\n",
      "id               21436\n",
      "price             3625\n",
      "bedrooms            13\n",
      "bathrooms           30\n",
      "sqft_living       1038\n",
      "sqft_lot          9782\n",
      "floors               6\n",
      "waterfront           2\n",
      "view                 5\n",
      "condition            5\n",
      "grade               12\n",
      "sqft_above         946\n",
      "sqft_basement      306\n",
      "yr_built           116\n",
      "yr_renovated        70\n",
      "zipcode             70\n",
      "lat               5034\n",
      "long               752\n",
      "sqft_living15      777\n",
      "sqft_lot15        8689\n",
      "date                 2\n",
      "dtype: int64\n"
     ]
    }
   ],
   "source": [
    "print(df_usa.shape)\n",
    "print(df_usa.nunique()) # 데이터 각 변수의 종류 개수 확인"
   ]
  },
  {
   "cell_type": "code",
   "execution_count": 48,
   "metadata": {},
   "outputs": [
    {
     "name": "stdout",
     "output_type": "stream",
     "text": [
      "<class 'pandas.core.frame.DataFrame'>\n",
      "RangeIndex: 21613 entries, 0 to 21612\n",
      "Data columns (total 21 columns):\n",
      "id               21613 non-null int64\n",
      "price            21613 non-null float64\n",
      "bedrooms         21613 non-null int64\n",
      "bathrooms        21613 non-null float64\n",
      "sqft_living      21613 non-null int64\n",
      "sqft_lot         21613 non-null int64\n",
      "floors           21613 non-null float64\n",
      "waterfront       21613 non-null int64\n",
      "view             21613 non-null int64\n",
      "condition        21613 non-null int64\n",
      "grade            21613 non-null int64\n",
      "sqft_above       21613 non-null int64\n",
      "sqft_basement    21613 non-null int64\n",
      "yr_built         21613 non-null int64\n",
      "yr_renovated     21613 non-null int64\n",
      "zipcode          21613 non-null int64\n",
      "lat              21613 non-null float64\n",
      "long             21613 non-null float64\n",
      "sqft_living15    21613 non-null int64\n",
      "sqft_lot15       21613 non-null int64\n",
      "date             21613 non-null int64\n",
      "dtypes: float64(5), int64(16)\n",
      "memory usage: 3.5 MB\n",
      "None\n"
     ]
    }
   ],
   "source": [
    "print(df_usa.info()) # 데이터 타입 결측값 유무 없어보입니다."
   ]
  },
  {
   "cell_type": "markdown",
   "metadata": {},
   "source": [
    "## 데이터 전처리\n",
    "#### sqft_living, sqft_lot 변수는 15년도 변경 데이터와 상당히 유사하다.\n",
    "#### yr renovated 변경사항이 있는 데이터가 있다.\n",
    "#### sqft_above와 sqft_basement변수가 있다. \n",
    "#### 이중에서 sqft_above변수는 sqft_living와 상당히 유사하여 다중공선성이 나타나서 제거해준다. \n",
    "#### 거래년도가 다른 중복된 품목이 있으므로 처리해 준다.\n",
    "#### yr_renovated 변수는 renovated 변수로 바꿔서 년도가 0이면 그대로 0,  0이 아니라면 1으로 처리\n",
    "#### sqft_living15, sqft_lot15 변수들은 놔두고 sqft_living, sqft_lot은 제거해준다.  \n",
    "#### sqft_basement는 basement변수로 범주화 시킨다 있으면 1 없으면 0"
   ]
  },
  {
   "cell_type": "code",
   "execution_count": 49,
   "metadata": {},
   "outputs": [],
   "source": [
    "df_usa=df_usa.drop_duplicates(['id'],keep='last')#중복행 제거"
   ]
  },
  {
   "cell_type": "code",
   "execution_count": 50,
   "metadata": {},
   "outputs": [],
   "source": [
    "df_usa.loc[df_usa['yr_renovated'] >0.0,'renovated']  = 1\n",
    "df_usa.loc[df_usa['yr_renovated'] ==0.0,'renovated']  = 0"
   ]
  },
  {
   "cell_type": "code",
   "execution_count": 51,
   "metadata": {},
   "outputs": [],
   "source": [
    "df_usa.loc[df_usa['sqft_basement'] >0.0,'basement']  = 1\n",
    "df_usa.loc[df_usa['sqft_basement'] ==0.0,'basement']  = 0"
   ]
  },
  {
   "cell_type": "code",
   "execution_count": 52,
   "metadata": {},
   "outputs": [],
   "source": [
    "df_usa=df_usa.drop(['sqft_living','sqft_lot','sqft_above','sqft_basement','yr_renovated'],axis=1)"
   ]
  },
  {
   "cell_type": "code",
   "execution_count": 53,
   "metadata": {},
   "outputs": [
    {
     "data": {
      "text/html": [
       "<div>\n",
       "<style scoped>\n",
       "    .dataframe tbody tr th:only-of-type {\n",
       "        vertical-align: middle;\n",
       "    }\n",
       "\n",
       "    .dataframe tbody tr th {\n",
       "        vertical-align: top;\n",
       "    }\n",
       "\n",
       "    .dataframe thead th {\n",
       "        text-align: right;\n",
       "    }\n",
       "</style>\n",
       "<table border=\"1\" class=\"dataframe\">\n",
       "  <thead>\n",
       "    <tr style=\"text-align: right;\">\n",
       "      <th></th>\n",
       "      <th>id</th>\n",
       "      <th>price</th>\n",
       "      <th>bedrooms</th>\n",
       "      <th>bathrooms</th>\n",
       "      <th>floors</th>\n",
       "      <th>waterfront</th>\n",
       "      <th>view</th>\n",
       "      <th>condition</th>\n",
       "      <th>grade</th>\n",
       "      <th>yr_built</th>\n",
       "      <th>zipcode</th>\n",
       "      <th>lat</th>\n",
       "      <th>long</th>\n",
       "      <th>sqft_living15</th>\n",
       "      <th>sqft_lot15</th>\n",
       "      <th>date</th>\n",
       "      <th>renovated</th>\n",
       "      <th>basement</th>\n",
       "    </tr>\n",
       "  </thead>\n",
       "  <tbody>\n",
       "    <tr>\n",
       "      <th>count</th>\n",
       "      <td>2.143600e+04</td>\n",
       "      <td>2.143600e+04</td>\n",
       "      <td>21436.000000</td>\n",
       "      <td>21436.000000</td>\n",
       "      <td>21436.000000</td>\n",
       "      <td>21436.000000</td>\n",
       "      <td>21436.000000</td>\n",
       "      <td>21436.000000</td>\n",
       "      <td>21436.000000</td>\n",
       "      <td>21436.000000</td>\n",
       "      <td>21436.000000</td>\n",
       "      <td>21436.000000</td>\n",
       "      <td>21436.000000</td>\n",
       "      <td>21436.000000</td>\n",
       "      <td>21436.000000</td>\n",
       "      <td>21436.000000</td>\n",
       "      <td>21436.000000</td>\n",
       "      <td>21436.000000</td>\n",
       "    </tr>\n",
       "    <tr>\n",
       "      <th>mean</th>\n",
       "      <td>4.580765e+09</td>\n",
       "      <td>5.417449e+05</td>\n",
       "      <td>3.371571</td>\n",
       "      <td>2.117349</td>\n",
       "      <td>1.496198</td>\n",
       "      <td>0.007604</td>\n",
       "      <td>0.235118</td>\n",
       "      <td>3.410384</td>\n",
       "      <td>7.661737</td>\n",
       "      <td>1971.098433</td>\n",
       "      <td>98077.862288</td>\n",
       "      <td>47.560156</td>\n",
       "      <td>-122.213697</td>\n",
       "      <td>1988.314378</td>\n",
       "      <td>12785.961280</td>\n",
       "      <td>2014.325247</td>\n",
       "      <td>0.042452</td>\n",
       "      <td>0.392844</td>\n",
       "    </tr>\n",
       "    <tr>\n",
       "      <th>std</th>\n",
       "      <td>2.876590e+09</td>\n",
       "      <td>3.675513e+05</td>\n",
       "      <td>0.929205</td>\n",
       "      <td>0.769913</td>\n",
       "      <td>0.540388</td>\n",
       "      <td>0.086871</td>\n",
       "      <td>0.767092</td>\n",
       "      <td>0.650235</td>\n",
       "      <td>1.174256</td>\n",
       "      <td>29.385277</td>\n",
       "      <td>53.469371</td>\n",
       "      <td>0.138601</td>\n",
       "      <td>0.140896</td>\n",
       "      <td>685.699093</td>\n",
       "      <td>27375.467469</td>\n",
       "      <td>0.468478</td>\n",
       "      <td>0.201623</td>\n",
       "      <td>0.488394</td>\n",
       "    </tr>\n",
       "    <tr>\n",
       "      <th>min</th>\n",
       "      <td>1.000102e+06</td>\n",
       "      <td>7.500000e+04</td>\n",
       "      <td>0.000000</td>\n",
       "      <td>0.000000</td>\n",
       "      <td>1.000000</td>\n",
       "      <td>0.000000</td>\n",
       "      <td>0.000000</td>\n",
       "      <td>1.000000</td>\n",
       "      <td>1.000000</td>\n",
       "      <td>1900.000000</td>\n",
       "      <td>98001.000000</td>\n",
       "      <td>47.155900</td>\n",
       "      <td>-122.519000</td>\n",
       "      <td>399.000000</td>\n",
       "      <td>651.000000</td>\n",
       "      <td>2014.000000</td>\n",
       "      <td>0.000000</td>\n",
       "      <td>0.000000</td>\n",
       "    </tr>\n",
       "    <tr>\n",
       "      <th>25%</th>\n",
       "      <td>2.123700e+09</td>\n",
       "      <td>3.248660e+05</td>\n",
       "      <td>3.000000</td>\n",
       "      <td>1.750000</td>\n",
       "      <td>1.000000</td>\n",
       "      <td>0.000000</td>\n",
       "      <td>0.000000</td>\n",
       "      <td>3.000000</td>\n",
       "      <td>7.000000</td>\n",
       "      <td>1952.000000</td>\n",
       "      <td>98033.000000</td>\n",
       "      <td>47.471100</td>\n",
       "      <td>-122.328000</td>\n",
       "      <td>1490.000000</td>\n",
       "      <td>5100.000000</td>\n",
       "      <td>2014.000000</td>\n",
       "      <td>0.000000</td>\n",
       "      <td>0.000000</td>\n",
       "    </tr>\n",
       "    <tr>\n",
       "      <th>50%</th>\n",
       "      <td>3.904921e+09</td>\n",
       "      <td>4.500000e+05</td>\n",
       "      <td>3.000000</td>\n",
       "      <td>2.250000</td>\n",
       "      <td>1.500000</td>\n",
       "      <td>0.000000</td>\n",
       "      <td>0.000000</td>\n",
       "      <td>3.000000</td>\n",
       "      <td>7.000000</td>\n",
       "      <td>1975.000000</td>\n",
       "      <td>98065.000000</td>\n",
       "      <td>47.572000</td>\n",
       "      <td>-122.230000</td>\n",
       "      <td>1840.000000</td>\n",
       "      <td>7620.000000</td>\n",
       "      <td>2014.000000</td>\n",
       "      <td>0.000000</td>\n",
       "      <td>0.000000</td>\n",
       "    </tr>\n",
       "    <tr>\n",
       "      <th>75%</th>\n",
       "      <td>7.308675e+09</td>\n",
       "      <td>6.450000e+05</td>\n",
       "      <td>4.000000</td>\n",
       "      <td>2.500000</td>\n",
       "      <td>2.000000</td>\n",
       "      <td>0.000000</td>\n",
       "      <td>0.000000</td>\n",
       "      <td>4.000000</td>\n",
       "      <td>8.000000</td>\n",
       "      <td>1997.000000</td>\n",
       "      <td>98117.000000</td>\n",
       "      <td>47.678000</td>\n",
       "      <td>-122.124000</td>\n",
       "      <td>2370.000000</td>\n",
       "      <td>10087.250000</td>\n",
       "      <td>2015.000000</td>\n",
       "      <td>0.000000</td>\n",
       "      <td>1.000000</td>\n",
       "    </tr>\n",
       "    <tr>\n",
       "      <th>max</th>\n",
       "      <td>9.900000e+09</td>\n",
       "      <td>7.700000e+06</td>\n",
       "      <td>33.000000</td>\n",
       "      <td>8.000000</td>\n",
       "      <td>3.500000</td>\n",
       "      <td>1.000000</td>\n",
       "      <td>4.000000</td>\n",
       "      <td>5.000000</td>\n",
       "      <td>13.000000</td>\n",
       "      <td>2015.000000</td>\n",
       "      <td>98199.000000</td>\n",
       "      <td>47.777600</td>\n",
       "      <td>-121.315000</td>\n",
       "      <td>6210.000000</td>\n",
       "      <td>871200.000000</td>\n",
       "      <td>2015.000000</td>\n",
       "      <td>1.000000</td>\n",
       "      <td>1.000000</td>\n",
       "    </tr>\n",
       "  </tbody>\n",
       "</table>\n",
       "</div>"
      ],
      "text/plain": [
       "                 id         price      bedrooms     bathrooms        floors  \\\n",
       "count  2.143600e+04  2.143600e+04  21436.000000  21436.000000  21436.000000   \n",
       "mean   4.580765e+09  5.417449e+05      3.371571      2.117349      1.496198   \n",
       "std    2.876590e+09  3.675513e+05      0.929205      0.769913      0.540388   \n",
       "min    1.000102e+06  7.500000e+04      0.000000      0.000000      1.000000   \n",
       "25%    2.123700e+09  3.248660e+05      3.000000      1.750000      1.000000   \n",
       "50%    3.904921e+09  4.500000e+05      3.000000      2.250000      1.500000   \n",
       "75%    7.308675e+09  6.450000e+05      4.000000      2.500000      2.000000   \n",
       "max    9.900000e+09  7.700000e+06     33.000000      8.000000      3.500000   \n",
       "\n",
       "         waterfront          view     condition         grade      yr_built  \\\n",
       "count  21436.000000  21436.000000  21436.000000  21436.000000  21436.000000   \n",
       "mean       0.007604      0.235118      3.410384      7.661737   1971.098433   \n",
       "std        0.086871      0.767092      0.650235      1.174256     29.385277   \n",
       "min        0.000000      0.000000      1.000000      1.000000   1900.000000   \n",
       "25%        0.000000      0.000000      3.000000      7.000000   1952.000000   \n",
       "50%        0.000000      0.000000      3.000000      7.000000   1975.000000   \n",
       "75%        0.000000      0.000000      4.000000      8.000000   1997.000000   \n",
       "max        1.000000      4.000000      5.000000     13.000000   2015.000000   \n",
       "\n",
       "            zipcode           lat          long  sqft_living15     sqft_lot15  \\\n",
       "count  21436.000000  21436.000000  21436.000000   21436.000000   21436.000000   \n",
       "mean   98077.862288     47.560156   -122.213697    1988.314378   12785.961280   \n",
       "std       53.469371      0.138601      0.140896     685.699093   27375.467469   \n",
       "min    98001.000000     47.155900   -122.519000     399.000000     651.000000   \n",
       "25%    98033.000000     47.471100   -122.328000    1490.000000    5100.000000   \n",
       "50%    98065.000000     47.572000   -122.230000    1840.000000    7620.000000   \n",
       "75%    98117.000000     47.678000   -122.124000    2370.000000   10087.250000   \n",
       "max    98199.000000     47.777600   -121.315000    6210.000000  871200.000000   \n",
       "\n",
       "               date     renovated      basement  \n",
       "count  21436.000000  21436.000000  21436.000000  \n",
       "mean    2014.325247      0.042452      0.392844  \n",
       "std        0.468478      0.201623      0.488394  \n",
       "min     2014.000000      0.000000      0.000000  \n",
       "25%     2014.000000      0.000000      0.000000  \n",
       "50%     2014.000000      0.000000      0.000000  \n",
       "75%     2015.000000      0.000000      1.000000  \n",
       "max     2015.000000      1.000000      1.000000  "
      ]
     },
     "execution_count": 53,
     "metadata": {},
     "output_type": "execute_result"
    }
   ],
   "source": [
    "df_usa.describe()# bedrooms 변수에 33  "
   ]
  },
  {
   "cell_type": "code",
   "execution_count": 54,
   "metadata": {},
   "outputs": [
    {
     "name": "stdout",
     "output_type": "stream",
     "text": [
      "2014    14464\n",
      "2015     6972\n",
      "Name: date, dtype: int64\n"
     ]
    }
   ],
   "source": [
    "date = df_usa['date'].value_counts()\n",
    "print(date)"
   ]
  },
  {
   "cell_type": "code",
   "execution_count": 22,
   "metadata": {},
   "outputs": [
    {
     "name": "stderr",
     "output_type": "stream",
     "text": [
      "No handles with labels found to put in legend.\n"
     ]
    },
    {
     "data": {
      "image/png": "[encoded data removed]",
      "text/plain": [
       "<Figure size 576x432 with 2 Axes>"
      ]
     },
     "metadata": {
      "needs_background": "light"
     },
     "output_type": "display_data"
    }
   ],
   "source": [
    "plt.figure(figsize = (8,6))\n",
    "lat, long = df_usa['lat'], df_usa['long']\n",
    "price= df_usa['price']\n",
    "\n",
    "plt.scatter(long, lat, label=None,\n",
    "            c=np.log10(price), cmap='rainbow',\n",
    "            linewidth=0, alpha=0.5)\n",
    "plt.axis(aspect='equal')\n",
    "plt.xlabel('longitude')\n",
    "plt.ylabel('latitude')\n",
    "plt.colorbar(label='log$_{10}$(price)')\n",
    "plt.clim(5.3, 6)\n",
    "\n",
    "\n",
    "plt.legend(scatterpoints=1, frameon=False, labelspacing=1, title='King County Area')\n",
    "\n",
    "plt.title('King County House Price');"
   ]
  },
  {
   "cell_type": "code",
   "execution_count": null,
   "metadata": {},
   "outputs": [],
   "source": [
    "#lat 47.5를 경계로 가격차이가 존재하는 것을 알 수 있다."
   ]
  },
  {
   "cell_type": "code",
   "execution_count": 23,
   "metadata": {},
   "outputs": [
    {
     "data": {
      "image/png": "[encoded data removed]",
      "text/plain": [
       "<Figure size 576x432 with 1 Axes>"
      ]
     },
     "metadata": {
      "needs_background": "light"
     },
     "output_type": "display_data"
    }
   ],
   "source": [
    "plt.figure(figsize = (8,6))\n",
    "boxplot = df_usa.boxplot(column=['bathrooms', 'bedrooms'])#이상치 제거"
   ]
  },
  {
   "cell_type": "code",
   "execution_count": 24,
   "metadata": {},
   "outputs": [],
   "source": [
    "df_usa.drop(['id', 'date','zipcode'], axis=1, inplace=True) #id, date,zipcode 변수를 없애버림"
   ]
  },
  {
   "cell_type": "code",
   "execution_count": 25,
   "metadata": {},
   "outputs": [],
   "source": [
    "df_usa=df_usa.loc[df_usa['bathrooms']<4]\n",
    "df_usa=df_usa.loc[df_usa['bedrooms']<=5]\n",
    "df_usa=df_usa.loc[df_usa['bedrooms']>1]"
   ]
  },
  {
   "cell_type": "code",
   "execution_count": 26,
   "metadata": {},
   "outputs": [
    {
     "data": {
      "image/png": "[encoded data removed]",
      "text/plain": [
       "<Figure size 576x432 with 1 Axes>"
      ]
     },
     "metadata": {
      "needs_background": "light"
     },
     "output_type": "display_data"
    }
   ],
   "source": [
    "plt.figure(figsize = (8,6))\n",
    "boxplot = df_usa.boxplot(column=['bathrooms', 'bedrooms'])"
   ]
  },
  {
   "cell_type": "code",
   "execution_count": 27,
   "metadata": {},
   "outputs": [
    {
     "data": {
      "image/png": "[encoded data removed]",
      "text/plain": [
       "<Figure size 864x432 with 2 Axes>"
      ]
     },
     "metadata": {
      "needs_background": "light"
     },
     "output_type": "display_data"
    }
   ],
   "source": [
    "plt.figure(figsize = (12, 6)) #가격의 분포\n",
    "\n",
    "plt.subplot(121)\n",
    "plt.title('Price Distribuition')\n",
    "sns.distplot(df_usa['price'])\n",
    "\n",
    "plt.subplot(122)\n",
    "plt.title('Price Distribuition')\n",
    "sns.distplot(np.log1p(df_usa['price']))\n",
    "\n",
    "g1= plt.title(\"Price Curve Distribuition\", fontsize=15)\n",
    "g1 = plt.xlabel(\"\")\n",
    "g1 = plt.ylabel(\"Amount(US)\", fontsize=12)\n",
    "\n",
    "plt.subplots_adjust(wspace = 0.3, hspace = 0.5,\n",
    "                    top = 0.9)\n",
    "plt.show()"
   ]
  },
  {
   "cell_type": "code",
   "execution_count": 28,
   "metadata": {},
   "outputs": [
    {
     "data": {
      "image/png": "[encoded data removed]",
      "text/plain": [
       "<Figure size 864x432 with 2 Axes>"
      ]
     },
     "metadata": {
      "needs_background": "light"
     },
     "output_type": "display_data"
    }
   ],
   "source": [
    "plt.figure(figsize = (12, 6)) #가격의 분포\n",
    "\n",
    "plt.subplot(121)\n",
    "plt.title('Price Distribuition')\n",
    "g2 = stats.probplot((df_usa['price']), plot=plt)\n",
    "g2= plt.title(\"Price Curve Distribuition\", fontsize=15)\n",
    "\n",
    "plt.subplot(122)\n",
    "g1= stats.probplot(np.log1p(df_usa['price']), plot=plt)\n",
    "g1= plt.title(\"Price Curve Distribuition\", fontsize=15)\n",
    "g1 = plt.xlabel(\"\")\n",
    "g1 = plt.ylabel(\"Amount(US)\", fontsize=12)\n",
    "\n",
    "plt.subplots_adjust(wspace = 0.3, hspace = 0.5,\n",
    "                    top = 0.9)\n",
    "plt.show()"
   ]
  },
  {
   "cell_type": "code",
   "execution_count": 29,
   "metadata": {},
   "outputs": [
    {
     "data": {
      "image/png": "[encoded data removed]",
      "text/plain": [
       "<Figure size 864x432 with 2 Axes>"
      ]
     },
     "metadata": {
      "needs_background": "light"
     },
     "output_type": "display_data"
    }
   ],
   "source": [
    "plt.figure(figsize = (12, 6)) #가격의 분포\n",
    "\n",
    "plt.subplot(121)\n",
    "plt.title('Price Distribuition')\n",
    "g2 = sns.boxplot(df_usa['price'])\n",
    "g2= plt.title(\"Price Curve Distribuition\", fontsize=15)\n",
    "\n",
    "plt.subplot(122)\n",
    "g1= sns.boxplot(np.log1p(df_usa['price']))\n",
    "g1= plt.title(\"Price Curve Distribuition\", fontsize=15)\n",
    "g1 = plt.xlabel(\"\")\n",
    "g1 = plt.ylabel(\"Amount(US)\", fontsize=12)\n",
    "\n",
    "plt.subplots_adjust(wspace = 0.3, hspace = 0.5,\n",
    "                    top = 0.9)\n",
    "plt.show()"
   ]
  },
  {
   "cell_type": "code",
   "execution_count": 30,
   "metadata": {},
   "outputs": [],
   "source": [
    "df_usa.loc[:,\"price\"] = np.log1p(df_usa.loc[:,\"price\"]) #가격 데이터에 log를 씌워서 분석을 진행합니다."
   ]
  },
  {
   "cell_type": "code",
   "execution_count": 31,
   "metadata": {},
   "outputs": [],
   "source": [
    "df=df_usa"
   ]
  },
  {
   "cell_type": "code",
   "execution_count": 32,
   "metadata": {},
   "outputs": [],
   "source": [
    "df = df.merge(pd.get_dummies(df.floors, prefix='Floor'), left_index=True, right_index=True)\n",
    "df = df.merge(pd.get_dummies(df.condition, prefix='condition'), left_index=True, right_index=True)"
   ]
  },
  {
   "cell_type": "code",
   "execution_count": 33,
   "metadata": {},
   "outputs": [],
   "source": [
    "del df['floors']\n",
    "del df['condition']"
   ]
  },
  {
   "cell_type": "code",
   "execution_count": 34,
   "metadata": {},
   "outputs": [],
   "source": [
    "from patsy import dmatrices\n",
    "import statsmodels.api as sm\n",
    "from statsmodels.stats.outliers_influence import variance_inflation_factor"
   ]
  },
  {
   "cell_type": "code",
   "execution_count": 35,
   "metadata": {},
   "outputs": [
    {
     "data": {
      "text/plain": [
       "Index(['price', 'bedrooms', 'bathrooms', 'waterfront', 'view', 'grade',\n",
       "       'yr_built', 'lat', 'long', 'sqft_living15', 'sqft_lot15', 'renovated',\n",
       "       'basement', 'Floor_1.0', 'Floor_1.5', 'Floor_2.0', 'Floor_2.5',\n",
       "       'Floor_3.0', 'Floor_3.5', 'condition_1', 'condition_2', 'condition_3',\n",
       "       'condition_4', 'condition_5'],\n",
       "      dtype='object')"
      ]
     },
     "execution_count": 35,
     "metadata": {},
     "output_type": "execute_result"
    }
   ],
   "source": [
    "df.columns"
   ]
  },
  {
   "cell_type": "code",
   "execution_count": 36,
   "metadata": {},
   "outputs": [],
   "source": [
    "X=df.drop('price',axis=1)\n",
    "y=df[['price']]"
   ]
  },
  {
   "cell_type": "code",
   "execution_count": 37,
   "metadata": {},
   "outputs": [],
   "source": [
    "X['Intercept']=1 # sm.OLS을 사용하기위해 intercept 변수 만들어 줍니다."
   ]
  },
  {
   "cell_type": "code",
   "execution_count": 38,
   "metadata": {},
   "outputs": [],
   "source": [
    "X=pd.DataFrame(X,columns=['Intercept','bedrooms', 'bathrooms', 'waterfront', 'view', 'grade',\n",
    "       'yr_built', 'lat', 'long', 'sqft_living15', 'sqft_lot15', 'renovated',\n",
    "       'basement', 'Floor_1.0', 'Floor_1.5', 'Floor_2.0', 'Floor_2.5',\n",
    "       'Floor_3.0', 'Floor_3.5', 'condition_1', 'condition_2', 'condition_3',\n",
    "       'condition_4', 'condition_5'])"
   ]
  },
  {
   "cell_type": "code",
   "execution_count": 39,
   "metadata": {},
   "outputs": [
    {
     "data": {
      "text/html": [
       "<div>\n",
       "<style scoped>\n",
       "    .dataframe tbody tr th:only-of-type {\n",
       "        vertical-align: middle;\n",
       "    }\n",
       "\n",
       "    .dataframe tbody tr th {\n",
       "        vertical-align: top;\n",
       "    }\n",
       "\n",
       "    .dataframe thead th {\n",
       "        text-align: right;\n",
       "    }\n",
       "</style>\n",
       "<table border=\"1\" class=\"dataframe\">\n",
       "  <thead>\n",
       "    <tr style=\"text-align: right;\">\n",
       "      <th></th>\n",
       "      <th>Intercept</th>\n",
       "      <th>bedrooms</th>\n",
       "      <th>bathrooms</th>\n",
       "      <th>waterfront</th>\n",
       "      <th>view</th>\n",
       "      <th>grade</th>\n",
       "      <th>yr_built</th>\n",
       "      <th>lat</th>\n",
       "      <th>long</th>\n",
       "      <th>sqft_living15</th>\n",
       "      <th>...</th>\n",
       "      <th>Floor_1.5</th>\n",
       "      <th>Floor_2.0</th>\n",
       "      <th>Floor_2.5</th>\n",
       "      <th>Floor_3.0</th>\n",
       "      <th>Floor_3.5</th>\n",
       "      <th>condition_1</th>\n",
       "      <th>condition_2</th>\n",
       "      <th>condition_3</th>\n",
       "      <th>condition_4</th>\n",
       "      <th>condition_5</th>\n",
       "    </tr>\n",
       "  </thead>\n",
       "  <tbody>\n",
       "    <tr>\n",
       "      <th>0</th>\n",
       "      <td>1</td>\n",
       "      <td>3</td>\n",
       "      <td>1</td>\n",
       "      <td>0</td>\n",
       "      <td>0</td>\n",
       "      <td>7</td>\n",
       "      <td>1955</td>\n",
       "      <td>47.5112</td>\n",
       "      <td>-122.257</td>\n",
       "      <td>1340</td>\n",
       "      <td>...</td>\n",
       "      <td>0</td>\n",
       "      <td>0</td>\n",
       "      <td>0</td>\n",
       "      <td>0</td>\n",
       "      <td>0</td>\n",
       "      <td>0</td>\n",
       "      <td>0</td>\n",
       "      <td>1</td>\n",
       "      <td>0</td>\n",
       "      <td>0</td>\n",
       "    </tr>\n",
       "    <tr>\n",
       "      <th>1</th>\n",
       "      <td>1</td>\n",
       "      <td>3</td>\n",
       "      <td>2</td>\n",
       "      <td>0</td>\n",
       "      <td>0</td>\n",
       "      <td>7</td>\n",
       "      <td>1951</td>\n",
       "      <td>47.7210</td>\n",
       "      <td>-122.319</td>\n",
       "      <td>1690</td>\n",
       "      <td>...</td>\n",
       "      <td>0</td>\n",
       "      <td>1</td>\n",
       "      <td>0</td>\n",
       "      <td>0</td>\n",
       "      <td>0</td>\n",
       "      <td>0</td>\n",
       "      <td>0</td>\n",
       "      <td>1</td>\n",
       "      <td>0</td>\n",
       "      <td>0</td>\n",
       "    </tr>\n",
       "    <tr>\n",
       "      <th>2</th>\n",
       "      <td>1</td>\n",
       "      <td>2</td>\n",
       "      <td>1</td>\n",
       "      <td>0</td>\n",
       "      <td>0</td>\n",
       "      <td>6</td>\n",
       "      <td>1933</td>\n",
       "      <td>47.7379</td>\n",
       "      <td>-122.233</td>\n",
       "      <td>2720</td>\n",
       "      <td>...</td>\n",
       "      <td>0</td>\n",
       "      <td>0</td>\n",
       "      <td>0</td>\n",
       "      <td>0</td>\n",
       "      <td>0</td>\n",
       "      <td>0</td>\n",
       "      <td>0</td>\n",
       "      <td>1</td>\n",
       "      <td>0</td>\n",
       "      <td>0</td>\n",
       "    </tr>\n",
       "    <tr>\n",
       "      <th>3</th>\n",
       "      <td>1</td>\n",
       "      <td>4</td>\n",
       "      <td>3</td>\n",
       "      <td>0</td>\n",
       "      <td>0</td>\n",
       "      <td>7</td>\n",
       "      <td>1965</td>\n",
       "      <td>47.5208</td>\n",
       "      <td>-122.393</td>\n",
       "      <td>1360</td>\n",
       "      <td>...</td>\n",
       "      <td>0</td>\n",
       "      <td>0</td>\n",
       "      <td>0</td>\n",
       "      <td>0</td>\n",
       "      <td>0</td>\n",
       "      <td>0</td>\n",
       "      <td>0</td>\n",
       "      <td>0</td>\n",
       "      <td>0</td>\n",
       "      <td>1</td>\n",
       "    </tr>\n",
       "    <tr>\n",
       "      <th>4</th>\n",
       "      <td>1</td>\n",
       "      <td>3</td>\n",
       "      <td>2</td>\n",
       "      <td>0</td>\n",
       "      <td>0</td>\n",
       "      <td>8</td>\n",
       "      <td>1987</td>\n",
       "      <td>47.6168</td>\n",
       "      <td>-122.045</td>\n",
       "      <td>1800</td>\n",
       "      <td>...</td>\n",
       "      <td>0</td>\n",
       "      <td>0</td>\n",
       "      <td>0</td>\n",
       "      <td>0</td>\n",
       "      <td>0</td>\n",
       "      <td>0</td>\n",
       "      <td>0</td>\n",
       "      <td>1</td>\n",
       "      <td>0</td>\n",
       "      <td>0</td>\n",
       "    </tr>\n",
       "  </tbody>\n",
       "</table>\n",
       "<p>5 rows × 24 columns</p>\n",
       "</div>"
      ],
      "text/plain": [
       "   Intercept  bedrooms  bathrooms  waterfront  view  grade  yr_built      lat  \\\n",
       "0          1         3          1           0     0      7      1955  47.5112   \n",
       "1          1         3          2           0     0      7      1951  47.7210   \n",
       "2          1         2          1           0     0      6      1933  47.7379   \n",
       "3          1         4          3           0     0      7      1965  47.5208   \n",
       "4          1         3          2           0     0      8      1987  47.6168   \n",
       "\n",
       "      long  sqft_living15     ...       Floor_1.5  Floor_2.0  Floor_2.5  \\\n",
       "0 -122.257           1340     ...               0          0          0   \n",
       "1 -122.319           1690     ...               0          1          0   \n",
       "2 -122.233           2720     ...               0          0          0   \n",
       "3 -122.393           1360     ...               0          0          0   \n",
       "4 -122.045           1800     ...               0          0          0   \n",
       "\n",
       "   Floor_3.0  Floor_3.5  condition_1  condition_2  condition_3  condition_4  \\\n",
       "0          0          0            0            0            1            0   \n",
       "1          0          0            0            0            1            0   \n",
       "2          0          0            0            0            1            0   \n",
       "3          0          0            0            0            0            0   \n",
       "4          0          0            0            0            1            0   \n",
       "\n",
       "   condition_5  \n",
       "0            0  \n",
       "1            0  \n",
       "2            0  \n",
       "3            1  \n",
       "4            0  \n",
       "\n",
       "[5 rows x 24 columns]"
      ]
     },
     "execution_count": 39,
     "metadata": {},
     "output_type": "execute_result"
    }
   ],
   "source": [
    "X.head()"
   ]
  },
  {
   "cell_type": "code",
   "execution_count": 40,
   "metadata": {},
   "outputs": [
    {
     "name": "stdout",
     "output_type": "stream",
     "text": [
      "                            OLS Regression Results                            \n",
      "==============================================================================\n",
      "Dep. Variable:                  price   R-squared:                       0.741\n",
      "Model:                            OLS   Adj. R-squared:                  0.741\n",
      "Method:                 Least Squares   F-statistic:                     2809.\n",
      "Date:                Wed, 09 Jan 2019   Prob (F-statistic):               0.00\n",
      "Time:                        08:26:24   Log-Likelihood:                -1043.6\n",
      "No. Observations:               20585   AIC:                             2131.\n",
      "Df Residuals:                   20563   BIC:                             2306.\n",
      "Df Model:                          21                                         \n",
      "Covariance Type:            nonrobust                                         \n",
      "=================================================================================\n",
      "                    coef    std err          t      P>|t|      [0.025      0.975]\n",
      "---------------------------------------------------------------------------------\n",
      "Intercept       -30.3903      1.532    -19.838      0.000     -33.393     -27.388\n",
      "bedrooms          0.0212      0.003      8.018      0.000       0.016       0.026\n",
      "bathrooms         0.0808      0.004     20.393      0.000       0.073       0.089\n",
      "waterfront        0.3810      0.024     15.885      0.000       0.334       0.428\n",
      "view              0.0632      0.003     22.430      0.000       0.058       0.069\n",
      "grade             0.1959      0.003     74.987      0.000       0.191       0.201\n",
      "yr_built         -0.0032      0.000    -32.027      0.000      -0.003      -0.003\n",
      "lat               1.3133      0.014     96.298      0.000       1.287       1.340\n",
      "long              0.0292      0.016      1.870      0.061      -0.001       0.060\n",
      "sqft_living15     0.0002   4.23e-06     38.918      0.000       0.000       0.000\n",
      "sqft_lot15     6.165e-07   7.32e-08      8.418      0.000    4.73e-07     7.6e-07\n",
      "renovated         0.0926      0.010      9.591      0.000       0.074       0.112\n",
      "basement          0.0847      0.004     19.985      0.000       0.076       0.093\n",
      "Floor_1.0        -5.1886      0.255    -20.371      0.000      -5.688      -4.689\n",
      "Floor_1.5        -5.1037      0.255    -20.049      0.000      -5.603      -4.605\n",
      "Floor_2.0        -5.0877      0.255    -19.945      0.000      -5.588      -4.588\n",
      "Floor_2.5        -4.9903      0.256    -19.519      0.000      -5.491      -4.489\n",
      "Floor_3.0        -5.0438      0.258    -19.552      0.000      -5.549      -4.538\n",
      "Floor_3.5        -4.9762      0.272    -18.281      0.000      -5.510      -4.443\n",
      "condition_1      -6.2431      0.310    -20.148      0.000      -6.850      -5.636\n",
      "condition_2      -6.1803      0.307    -20.143      0.000      -6.782      -5.579\n",
      "condition_3      -6.0581      0.307    -19.743      0.000      -6.660      -5.457\n",
      "condition_4      -5.9883      0.306    -19.542      0.000      -6.589      -5.388\n",
      "condition_5      -5.9204      0.306    -19.329      0.000      -6.521      -5.320\n",
      "==============================================================================\n",
      "Omnibus:                      433.635   Durbin-Watson:                   1.995\n",
      "Prob(Omnibus):                  0.000   Jarque-Bera (JB):              879.194\n",
      "Skew:                           0.109   Prob(JB):                    1.22e-191\n",
      "Kurtosis:                       3.988   Cond. No.                     9.26e+19\n",
      "==============================================================================\n",
      "\n",
      "Warnings:\n",
      "[1] Standard Errors assume that the covariance matrix of the errors is correctly specified.\n",
      "[2] The smallest eigenvalue is 1.95e-27. This might indicate that there are\n",
      "strong multicollinearity problems or that the design matrix is singular.\n"
     ]
    }
   ],
   "source": [
    "result = sm.OLS(y, X).fit()\n",
    "print(result.summary())"
   ]
  },
  {
   "cell_type": "code",
   "execution_count": 41,
   "metadata": {},
   "outputs": [
    {
     "data": {
      "text/plain": [
       "Index(['Intercept', 'bedrooms', 'bathrooms', 'waterfront', 'view', 'grade',\n",
       "       'yr_built', 'lat', 'long', 'sqft_living15', 'sqft_lot15', 'renovated',\n",
       "       'basement', 'Floor_1.0', 'Floor_1.5', 'Floor_2.0', 'Floor_2.5',\n",
       "       'Floor_3.0', 'Floor_3.5', 'condition_1', 'condition_2', 'condition_3',\n",
       "       'condition_4', 'condition_5'],\n",
       "      dtype='object')"
      ]
     },
     "execution_count": 41,
     "metadata": {},
     "output_type": "execute_result"
    }
   ],
   "source": [
    "X.columns"
   ]
  },
  {
   "cell_type": "code",
   "execution_count": 42,
   "metadata": {},
   "outputs": [],
   "source": [
    "features = 'bedrooms+ bathrooms+ waterfront+ view+ grade+ yr_built+ lat+ long+ sqft_living15+ sqft_lot15+ renovated+ basement+ Floor_1.0+ Floor_1.5+ Floor_2.0+ Floor_2.5+ Floor_3.0+ Floor_3.5+ condition_1+ condition_2+ condition_3+ condition_4+ condition_5'"
   ]
  },
  {
   "cell_type": "code",
   "execution_count": 43,
   "metadata": {},
   "outputs": [],
   "source": [
    "#독립변수들간의 상관관계를 검사하는 다중공선성 검사를 해봅니다."
   ]
  },
  {
   "cell_type": "code",
   "execution_count": 44,
   "metadata": {},
   "outputs": [],
   "source": [
    "vif = pd.DataFrame()\n",
    "vif[\"VIF Factor\"] = [variance_inflation_factor(X.values, i) for i in range(X.shape[1])]\n",
    "vif[\"features\"] = X.columns"
   ]
  },
  {
   "cell_type": "code",
   "execution_count": 45,
   "metadata": {},
   "outputs": [
    {
     "data": {
      "text/html": [
       "<div>\n",
       "<style scoped>\n",
       "    .dataframe tbody tr th:only-of-type {\n",
       "        vertical-align: middle;\n",
       "    }\n",
       "\n",
       "    .dataframe tbody tr th {\n",
       "        vertical-align: top;\n",
       "    }\n",
       "\n",
       "    .dataframe thead th {\n",
       "        text-align: right;\n",
       "    }\n",
       "</style>\n",
       "<table border=\"1\" class=\"dataframe\">\n",
       "  <thead>\n",
       "    <tr style=\"text-align: right;\">\n",
       "      <th></th>\n",
       "      <th>VIF Factor</th>\n",
       "      <th>features</th>\n",
       "    </tr>\n",
       "  </thead>\n",
       "  <tbody>\n",
       "    <tr>\n",
       "      <th>0</th>\n",
       "      <td>0.000000</td>\n",
       "      <td>Intercept</td>\n",
       "    </tr>\n",
       "    <tr>\n",
       "      <th>1</th>\n",
       "      <td>1.400000</td>\n",
       "      <td>bedrooms</td>\n",
       "    </tr>\n",
       "    <tr>\n",
       "      <th>2</th>\n",
       "      <td>2.100000</td>\n",
       "      <td>bathrooms</td>\n",
       "    </tr>\n",
       "    <tr>\n",
       "      <th>3</th>\n",
       "      <td>1.200000</td>\n",
       "      <td>waterfront</td>\n",
       "    </tr>\n",
       "    <tr>\n",
       "      <th>4</th>\n",
       "      <td>1.400000</td>\n",
       "      <td>view</td>\n",
       "    </tr>\n",
       "    <tr>\n",
       "      <th>5</th>\n",
       "      <td>2.700000</td>\n",
       "      <td>grade</td>\n",
       "    </tr>\n",
       "    <tr>\n",
       "      <th>6</th>\n",
       "      <td>2.800000</td>\n",
       "      <td>yr_built</td>\n",
       "    </tr>\n",
       "    <tr>\n",
       "      <th>7</th>\n",
       "      <td>1.100000</td>\n",
       "      <td>lat</td>\n",
       "    </tr>\n",
       "    <tr>\n",
       "      <th>8</th>\n",
       "      <td>1.500000</td>\n",
       "      <td>long</td>\n",
       "    </tr>\n",
       "    <tr>\n",
       "      <th>9</th>\n",
       "      <td>2.500000</td>\n",
       "      <td>sqft_living15</td>\n",
       "    </tr>\n",
       "    <tr>\n",
       "      <th>10</th>\n",
       "      <td>1.100000</td>\n",
       "      <td>sqft_lot15</td>\n",
       "    </tr>\n",
       "    <tr>\n",
       "      <th>11</th>\n",
       "      <td>1.200000</td>\n",
       "      <td>renovated</td>\n",
       "    </tr>\n",
       "    <tr>\n",
       "      <th>12</th>\n",
       "      <td>1.400000</td>\n",
       "      <td>basement</td>\n",
       "    </tr>\n",
       "    <tr>\n",
       "      <th>13</th>\n",
       "      <td>inf</td>\n",
       "      <td>Floor_1.0</td>\n",
       "    </tr>\n",
       "    <tr>\n",
       "      <th>14</th>\n",
       "      <td>inf</td>\n",
       "      <td>Floor_1.5</td>\n",
       "    </tr>\n",
       "    <tr>\n",
       "      <th>15</th>\n",
       "      <td>inf</td>\n",
       "      <td>Floor_2.0</td>\n",
       "    </tr>\n",
       "    <tr>\n",
       "      <th>16</th>\n",
       "      <td>inf</td>\n",
       "      <td>Floor_2.5</td>\n",
       "    </tr>\n",
       "    <tr>\n",
       "      <th>17</th>\n",
       "      <td>inf</td>\n",
       "      <td>Floor_3.0</td>\n",
       "    </tr>\n",
       "    <tr>\n",
       "      <th>18</th>\n",
       "      <td>inf</td>\n",
       "      <td>Floor_3.5</td>\n",
       "    </tr>\n",
       "    <tr>\n",
       "      <th>19</th>\n",
       "      <td>inf</td>\n",
       "      <td>condition_1</td>\n",
       "    </tr>\n",
       "    <tr>\n",
       "      <th>20</th>\n",
       "      <td>inf</td>\n",
       "      <td>condition_2</td>\n",
       "    </tr>\n",
       "    <tr>\n",
       "      <th>21</th>\n",
       "      <td>inf</td>\n",
       "      <td>condition_3</td>\n",
       "    </tr>\n",
       "    <tr>\n",
       "      <th>22</th>\n",
       "      <td>inf</td>\n",
       "      <td>condition_4</td>\n",
       "    </tr>\n",
       "    <tr>\n",
       "      <th>23</th>\n",
       "      <td>inf</td>\n",
       "      <td>condition_5</td>\n",
       "    </tr>\n",
       "  </tbody>\n",
       "</table>\n",
       "</div>"
      ],
      "text/plain": [
       "    VIF Factor       features\n",
       "0     0.000000      Intercept\n",
       "1     1.400000       bedrooms\n",
       "2     2.100000      bathrooms\n",
       "3     1.200000     waterfront\n",
       "4     1.400000           view\n",
       "5     2.700000          grade\n",
       "6     2.800000       yr_built\n",
       "7     1.100000            lat\n",
       "8     1.500000           long\n",
       "9     2.500000  sqft_living15\n",
       "10    1.100000     sqft_lot15\n",
       "11    1.200000      renovated\n",
       "12    1.400000       basement\n",
       "13         inf      Floor_1.0\n",
       "14         inf      Floor_1.5\n",
       "15         inf      Floor_2.0\n",
       "16         inf      Floor_2.5\n",
       "17         inf      Floor_3.0\n",
       "18         inf      Floor_3.5\n",
       "19         inf    condition_1\n",
       "20         inf    condition_2\n",
       "21         inf    condition_3\n",
       "22         inf    condition_4\n",
       "23         inf    condition_5"
      ]
     },
     "execution_count": 45,
     "metadata": {},
     "output_type": "execute_result"
    }
   ],
   "source": [
    "vif.round(1)"
   ]
  },
  {
   "cell_type": "code",
   "execution_count": 46,
   "metadata": {},
   "outputs": [],
   "source": [
    "#확실히 문제가 있습니다. 히트맵을 그려서 어떤 변수가 문제를 일으키는지 확인해봅니다."
   ]
  },
  {
   "cell_type": "code",
   "execution_count": 47,
   "metadata": {},
   "outputs": [
    {
     "data": {
      "image/png": "[encoded data removed]",
      "text/plain": [
       "<Figure size 1080x1080 with 2 Axes>"
      ]
     },
     "metadata": {
      "needs_background": "light"
     },
     "output_type": "display_data"
    }
   ],
   "source": [
    "plt.figure(figsize=(15,15))\n",
    "plt.title('Correlation of variables', fontsize=20)\n",
    "sns.heatmap(df.corr().astype(float), cmap =\"PiYG\",vmax=1.0)\n",
    "plt.show()"
   ]
  },
  {
   "cell_type": "code",
   "execution_count": 48,
   "metadata": {},
   "outputs": [],
   "source": [
    "#Floor_1.0과 condition_3 변수가 문제 있어보입니다. Floor_1.0변수와 다른 독립변수들과의 상관계수를 보겠습니다."
   ]
  },
  {
   "cell_type": "code",
   "execution_count": 49,
   "metadata": {},
   "outputs": [],
   "source": [
    "correlations = df.corr()['Floor_1.0'].sort_values()"
   ]
  },
  {
   "cell_type": "code",
   "execution_count": 50,
   "metadata": {},
   "outputs": [
    {
     "name": "stdout",
     "output_type": "stream",
     "text": [
      "Most Positive Correlations:\n",
      " waterfront    -0.019541\n",
      "Floor_3.5     -0.017008\n",
      "view          -0.013213\n",
      "sqft_lot15     0.004151\n",
      "condition_1    0.019035\n",
      "condition_2    0.047590\n",
      "condition_5    0.086211\n",
      "condition_4    0.231551\n",
      "basement       0.268190\n",
      "Floor_1.0      1.000000\n",
      "Name: Floor_1.0, dtype: float64\n",
      "\n",
      "Most Negative Correlations:\n",
      " Floor_2.0       -0.776811\n",
      "bathrooms       -0.453555\n",
      "grade           -0.420039\n",
      "yr_built        -0.357314\n",
      "Floor_1.5       -0.310675\n",
      "price           -0.306822\n",
      "sqft_living15   -0.289819\n",
      "condition_3     -0.272401\n",
      "bedrooms        -0.222960\n",
      "Floor_3.0       -0.170355\n",
      "Name: Floor_1.0, dtype: float64\n"
     ]
    }
   ],
   "source": [
    "print('Most Positive Correlations:\\n', correlations.tail(10))\n",
    "print('\\nMost Negative Correlations:\\n', correlations.head(10))"
   ]
  },
  {
   "cell_type": "code",
   "execution_count": 51,
   "metadata": {},
   "outputs": [],
   "source": [
    "#Floor_2.0 변수와 음의 상관관계가 강한것을 보입니다. 처리해줍니다."
   ]
  },
  {
   "cell_type": "code",
   "execution_count": 52,
   "metadata": {},
   "outputs": [],
   "source": [
    "# floor_1.0 변수 제거\n",
    "# condition_3 변수 제거"
   ]
  },
  {
   "cell_type": "code",
   "execution_count": 53,
   "metadata": {},
   "outputs": [],
   "source": [
    "X=pd.DataFrame(X,columns=['Intercept','bedrooms', 'bathrooms', 'waterfront', 'view', 'grade',\n",
    "       'yr_built', 'lat', 'long', 'sqft_living15', 'sqft_lot15', 'renovated',\n",
    "       'basement', 'Floor_1.5', 'Floor_2.0', 'Floor_2.5',\n",
    "       'Floor_3.0', 'Floor_3.5', 'condition_1', 'condition_2', 'condition_4', 'condition_5'])"
   ]
  },
  {
   "cell_type": "code",
   "execution_count": 54,
   "metadata": {},
   "outputs": [
    {
     "data": {
      "text/html": [
       "<div>\n",
       "<style scoped>\n",
       "    .dataframe tbody tr th:only-of-type {\n",
       "        vertical-align: middle;\n",
       "    }\n",
       "\n",
       "    .dataframe tbody tr th {\n",
       "        vertical-align: top;\n",
       "    }\n",
       "\n",
       "    .dataframe thead th {\n",
       "        text-align: right;\n",
       "    }\n",
       "</style>\n",
       "<table border=\"1\" class=\"dataframe\">\n",
       "  <thead>\n",
       "    <tr style=\"text-align: right;\">\n",
       "      <th></th>\n",
       "      <th>Intercept</th>\n",
       "      <th>bedrooms</th>\n",
       "      <th>bathrooms</th>\n",
       "      <th>waterfront</th>\n",
       "      <th>view</th>\n",
       "      <th>grade</th>\n",
       "      <th>yr_built</th>\n",
       "      <th>lat</th>\n",
       "      <th>long</th>\n",
       "      <th>sqft_living15</th>\n",
       "      <th>...</th>\n",
       "      <th>basement</th>\n",
       "      <th>Floor_1.5</th>\n",
       "      <th>Floor_2.0</th>\n",
       "      <th>Floor_2.5</th>\n",
       "      <th>Floor_3.0</th>\n",
       "      <th>Floor_3.5</th>\n",
       "      <th>condition_1</th>\n",
       "      <th>condition_2</th>\n",
       "      <th>condition_4</th>\n",
       "      <th>condition_5</th>\n",
       "    </tr>\n",
       "  </thead>\n",
       "  <tbody>\n",
       "    <tr>\n",
       "      <th>0</th>\n",
       "      <td>1</td>\n",
       "      <td>3</td>\n",
       "      <td>1</td>\n",
       "      <td>0</td>\n",
       "      <td>0</td>\n",
       "      <td>7</td>\n",
       "      <td>1955</td>\n",
       "      <td>47.5112</td>\n",
       "      <td>-122.257</td>\n",
       "      <td>1340</td>\n",
       "      <td>...</td>\n",
       "      <td>0</td>\n",
       "      <td>0</td>\n",
       "      <td>0</td>\n",
       "      <td>0</td>\n",
       "      <td>0</td>\n",
       "      <td>0</td>\n",
       "      <td>0</td>\n",
       "      <td>0</td>\n",
       "      <td>0</td>\n",
       "      <td>0</td>\n",
       "    </tr>\n",
       "    <tr>\n",
       "      <th>1</th>\n",
       "      <td>1</td>\n",
       "      <td>3</td>\n",
       "      <td>2</td>\n",
       "      <td>0</td>\n",
       "      <td>0</td>\n",
       "      <td>7</td>\n",
       "      <td>1951</td>\n",
       "      <td>47.7210</td>\n",
       "      <td>-122.319</td>\n",
       "      <td>1690</td>\n",
       "      <td>...</td>\n",
       "      <td>1</td>\n",
       "      <td>0</td>\n",
       "      <td>1</td>\n",
       "      <td>0</td>\n",
       "      <td>0</td>\n",
       "      <td>0</td>\n",
       "      <td>0</td>\n",
       "      <td>0</td>\n",
       "      <td>0</td>\n",
       "      <td>0</td>\n",
       "    </tr>\n",
       "    <tr>\n",
       "      <th>2</th>\n",
       "      <td>1</td>\n",
       "      <td>2</td>\n",
       "      <td>1</td>\n",
       "      <td>0</td>\n",
       "      <td>0</td>\n",
       "      <td>6</td>\n",
       "      <td>1933</td>\n",
       "      <td>47.7379</td>\n",
       "      <td>-122.233</td>\n",
       "      <td>2720</td>\n",
       "      <td>...</td>\n",
       "      <td>0</td>\n",
       "      <td>0</td>\n",
       "      <td>0</td>\n",
       "      <td>0</td>\n",
       "      <td>0</td>\n",
       "      <td>0</td>\n",
       "      <td>0</td>\n",
       "      <td>0</td>\n",
       "      <td>0</td>\n",
       "      <td>0</td>\n",
       "    </tr>\n",
       "    <tr>\n",
       "      <th>3</th>\n",
       "      <td>1</td>\n",
       "      <td>4</td>\n",
       "      <td>3</td>\n",
       "      <td>0</td>\n",
       "      <td>0</td>\n",
       "      <td>7</td>\n",
       "      <td>1965</td>\n",
       "      <td>47.5208</td>\n",
       "      <td>-122.393</td>\n",
       "      <td>1360</td>\n",
       "      <td>...</td>\n",
       "      <td>1</td>\n",
       "      <td>0</td>\n",
       "      <td>0</td>\n",
       "      <td>0</td>\n",
       "      <td>0</td>\n",
       "      <td>0</td>\n",
       "      <td>0</td>\n",
       "      <td>0</td>\n",
       "      <td>0</td>\n",
       "      <td>1</td>\n",
       "    </tr>\n",
       "    <tr>\n",
       "      <th>4</th>\n",
       "      <td>1</td>\n",
       "      <td>3</td>\n",
       "      <td>2</td>\n",
       "      <td>0</td>\n",
       "      <td>0</td>\n",
       "      <td>8</td>\n",
       "      <td>1987</td>\n",
       "      <td>47.6168</td>\n",
       "      <td>-122.045</td>\n",
       "      <td>1800</td>\n",
       "      <td>...</td>\n",
       "      <td>0</td>\n",
       "      <td>0</td>\n",
       "      <td>0</td>\n",
       "      <td>0</td>\n",
       "      <td>0</td>\n",
       "      <td>0</td>\n",
       "      <td>0</td>\n",
       "      <td>0</td>\n",
       "      <td>0</td>\n",
       "      <td>0</td>\n",
       "    </tr>\n",
       "  </tbody>\n",
       "</table>\n",
       "<p>5 rows × 22 columns</p>\n",
       "</div>"
      ],
      "text/plain": [
       "   Intercept  bedrooms  bathrooms  waterfront  view  grade  yr_built      lat  \\\n",
       "0          1         3          1           0     0      7      1955  47.5112   \n",
       "1          1         3          2           0     0      7      1951  47.7210   \n",
       "2          1         2          1           0     0      6      1933  47.7379   \n",
       "3          1         4          3           0     0      7      1965  47.5208   \n",
       "4          1         3          2           0     0      8      1987  47.6168   \n",
       "\n",
       "      long  sqft_living15     ...       basement  Floor_1.5  Floor_2.0  \\\n",
       "0 -122.257           1340     ...              0          0          0   \n",
       "1 -122.319           1690     ...              1          0          1   \n",
       "2 -122.233           2720     ...              0          0          0   \n",
       "3 -122.393           1360     ...              1          0          0   \n",
       "4 -122.045           1800     ...              0          0          0   \n",
       "\n",
       "   Floor_2.5  Floor_3.0  Floor_3.5  condition_1  condition_2  condition_4  \\\n",
       "0          0          0          0            0            0            0   \n",
       "1          0          0          0            0            0            0   \n",
       "2          0          0          0            0            0            0   \n",
       "3          0          0          0            0            0            0   \n",
       "4          0          0          0            0            0            0   \n",
       "\n",
       "   condition_5  \n",
       "0            0  \n",
       "1            0  \n",
       "2            0  \n",
       "3            1  \n",
       "4            0  \n",
       "\n",
       "[5 rows x 22 columns]"
      ]
     },
     "execution_count": 54,
     "metadata": {},
     "output_type": "execute_result"
    }
   ],
   "source": [
    "X.head()"
   ]
  },
  {
   "cell_type": "code",
   "execution_count": 55,
   "metadata": {},
   "outputs": [
    {
     "name": "stdout",
     "output_type": "stream",
     "text": [
      "                            OLS Regression Results                            \n",
      "==============================================================================\n",
      "Dep. Variable:                  price   R-squared:                       0.741\n",
      "Model:                            OLS   Adj. R-squared:                  0.741\n",
      "Method:                 Least Squares   F-statistic:                     2809.\n",
      "Date:                Wed, 09 Jan 2019   Prob (F-statistic):               0.00\n",
      "Time:                        08:28:22   Log-Likelihood:                -1043.6\n",
      "No. Observations:               20585   AIC:                             2131.\n",
      "Df Residuals:                   20563   BIC:                             2306.\n",
      "Df Model:                          21                                         \n",
      "Covariance Type:            nonrobust                                         \n",
      "=================================================================================\n",
      "                    coef    std err          t      P>|t|      [0.025      0.975]\n",
      "---------------------------------------------------------------------------------\n",
      "Intercept       -41.6370      2.093    -19.896      0.000     -45.739     -37.535\n",
      "bedrooms          0.0212      0.003      8.018      0.000       0.016       0.026\n",
      "bathrooms         0.0808      0.004     20.393      0.000       0.073       0.089\n",
      "waterfront        0.3810      0.024     15.885      0.000       0.334       0.428\n",
      "view              0.0632      0.003     22.430      0.000       0.058       0.069\n",
      "grade             0.1959      0.003     74.987      0.000       0.191       0.201\n",
      "yr_built         -0.0032      0.000    -32.027      0.000      -0.003      -0.003\n",
      "lat               1.3133      0.014     96.298      0.000       1.287       1.340\n",
      "long              0.0292      0.016      1.870      0.061      -0.001       0.060\n",
      "sqft_living15     0.0002   4.23e-06     38.918      0.000       0.000       0.000\n",
      "sqft_lot15     6.165e-07   7.32e-08      8.418      0.000    4.73e-07     7.6e-07\n",
      "renovated         0.0926      0.010      9.591      0.000       0.074       0.112\n",
      "basement          0.0847      0.004     19.985      0.000       0.076       0.093\n",
      "Floor_1.5         0.0849      0.007     12.149      0.000       0.071       0.099\n",
      "Floor_2.0         0.1009      0.005     18.953      0.000       0.090       0.111\n",
      "Floor_2.5         0.1983      0.023      8.763      0.000       0.154       0.243\n",
      "Floor_3.0         0.1448      0.012     11.661      0.000       0.120       0.169\n",
      "Floor_3.5         0.2124      0.104      2.037      0.042       0.008       0.417\n",
      "condition_1      -0.1851      0.053     -3.467      0.001      -0.290      -0.080\n",
      "condition_2      -0.1223      0.021     -5.817      0.000      -0.163      -0.081\n",
      "condition_4       0.0698      0.004     15.567      0.000       0.061       0.079\n",
      "condition_5       0.1376      0.007     19.110      0.000       0.124       0.152\n",
      "==============================================================================\n",
      "Omnibus:                      433.635   Durbin-Watson:                   1.995\n",
      "Prob(Omnibus):                  0.000   Jarque-Bera (JB):              879.194\n",
      "Skew:                           0.109   Prob(JB):                    1.22e-191\n",
      "Kurtosis:                       3.988   Cond. No.                     3.36e+07\n",
      "==============================================================================\n",
      "\n",
      "Warnings:\n",
      "[1] Standard Errors assume that the covariance matrix of the errors is correctly specified.\n",
      "[2] The condition number is large, 3.36e+07. This might indicate that there are\n",
      "strong multicollinearity or other numerical problems.\n"
     ]
    }
   ],
   "source": [
    "result = sm.OLS(y, X).fit()\n",
    "print(result.summary())"
   ]
  },
  {
   "cell_type": "code",
   "execution_count": 56,
   "metadata": {},
   "outputs": [],
   "source": [
    "features = 'bedrooms+ bathrooms+ waterfront+ view+ grade+ yr_built+ lat+ long+ sqft_living15+ sqft_lot15+ renovated+ basement+ Floor_1.5+ Floor_2.0+ Floor_2.5+ Floor_3.0+ Floor_3.5+ condition_1+ condition_2+  condition_4+ condition_5'"
   ]
  },
  {
   "cell_type": "code",
   "execution_count": 57,
   "metadata": {},
   "outputs": [],
   "source": [
    "vif = pd.DataFrame()\n",
    "vif[\"VIF Factor\"] = [variance_inflation_factor(X.values, i) for i in range(X.shape[1])]\n",
    "vif[\"features\"] = X.columns"
   ]
  },
  {
   "cell_type": "code",
   "execution_count": 58,
   "metadata": {},
   "outputs": [
    {
     "data": {
      "text/html": [
       "<div>\n",
       "<style scoped>\n",
       "    .dataframe tbody tr th:only-of-type {\n",
       "        vertical-align: middle;\n",
       "    }\n",
       "\n",
       "    .dataframe tbody tr th {\n",
       "        vertical-align: top;\n",
       "    }\n",
       "\n",
       "    .dataframe thead th {\n",
       "        text-align: right;\n",
       "    }\n",
       "</style>\n",
       "<table border=\"1\" class=\"dataframe\">\n",
       "  <thead>\n",
       "    <tr style=\"text-align: right;\">\n",
       "      <th></th>\n",
       "      <th>VIF Factor</th>\n",
       "      <th>features</th>\n",
       "    </tr>\n",
       "  </thead>\n",
       "  <tbody>\n",
       "    <tr>\n",
       "      <th>0</th>\n",
       "      <td>1389792.7</td>\n",
       "      <td>Intercept</td>\n",
       "    </tr>\n",
       "    <tr>\n",
       "      <th>1</th>\n",
       "      <td>1.4</td>\n",
       "      <td>bedrooms</td>\n",
       "    </tr>\n",
       "    <tr>\n",
       "      <th>2</th>\n",
       "      <td>2.1</td>\n",
       "      <td>bathrooms</td>\n",
       "    </tr>\n",
       "    <tr>\n",
       "      <th>3</th>\n",
       "      <td>1.2</td>\n",
       "      <td>waterfront</td>\n",
       "    </tr>\n",
       "    <tr>\n",
       "      <th>4</th>\n",
       "      <td>1.4</td>\n",
       "      <td>view</td>\n",
       "    </tr>\n",
       "    <tr>\n",
       "      <th>5</th>\n",
       "      <td>2.7</td>\n",
       "      <td>grade</td>\n",
       "    </tr>\n",
       "    <tr>\n",
       "      <th>6</th>\n",
       "      <td>2.8</td>\n",
       "      <td>yr_built</td>\n",
       "    </tr>\n",
       "    <tr>\n",
       "      <th>7</th>\n",
       "      <td>1.1</td>\n",
       "      <td>lat</td>\n",
       "    </tr>\n",
       "    <tr>\n",
       "      <th>8</th>\n",
       "      <td>1.5</td>\n",
       "      <td>long</td>\n",
       "    </tr>\n",
       "    <tr>\n",
       "      <th>9</th>\n",
       "      <td>2.5</td>\n",
       "      <td>sqft_living15</td>\n",
       "    </tr>\n",
       "    <tr>\n",
       "      <th>10</th>\n",
       "      <td>1.1</td>\n",
       "      <td>sqft_lot15</td>\n",
       "    </tr>\n",
       "    <tr>\n",
       "      <th>11</th>\n",
       "      <td>1.2</td>\n",
       "      <td>renovated</td>\n",
       "    </tr>\n",
       "    <tr>\n",
       "      <th>12</th>\n",
       "      <td>1.4</td>\n",
       "      <td>basement</td>\n",
       "    </tr>\n",
       "    <tr>\n",
       "      <th>13</th>\n",
       "      <td>1.3</td>\n",
       "      <td>Floor_1.5</td>\n",
       "    </tr>\n",
       "    <tr>\n",
       "      <th>14</th>\n",
       "      <td>2.1</td>\n",
       "      <td>Floor_2.0</td>\n",
       "    </tr>\n",
       "    <tr>\n",
       "      <th>15</th>\n",
       "      <td>1.0</td>\n",
       "      <td>Floor_2.5</td>\n",
       "    </tr>\n",
       "    <tr>\n",
       "      <th>16</th>\n",
       "      <td>1.4</td>\n",
       "      <td>Floor_3.0</td>\n",
       "    </tr>\n",
       "    <tr>\n",
       "      <th>17</th>\n",
       "      <td>1.0</td>\n",
       "      <td>Floor_3.5</td>\n",
       "    </tr>\n",
       "    <tr>\n",
       "      <th>18</th>\n",
       "      <td>1.0</td>\n",
       "      <td>condition_1</td>\n",
       "    </tr>\n",
       "    <tr>\n",
       "      <th>19</th>\n",
       "      <td>1.0</td>\n",
       "      <td>condition_2</td>\n",
       "    </tr>\n",
       "    <tr>\n",
       "      <th>20</th>\n",
       "      <td>1.2</td>\n",
       "      <td>condition_4</td>\n",
       "    </tr>\n",
       "    <tr>\n",
       "      <th>21</th>\n",
       "      <td>1.2</td>\n",
       "      <td>condition_5</td>\n",
       "    </tr>\n",
       "  </tbody>\n",
       "</table>\n",
       "</div>"
      ],
      "text/plain": [
       "    VIF Factor       features\n",
       "0    1389792.7      Intercept\n",
       "1          1.4       bedrooms\n",
       "2          2.1      bathrooms\n",
       "3          1.2     waterfront\n",
       "4          1.4           view\n",
       "5          2.7          grade\n",
       "6          2.8       yr_built\n",
       "7          1.1            lat\n",
       "8          1.5           long\n",
       "9          2.5  sqft_living15\n",
       "10         1.1     sqft_lot15\n",
       "11         1.2      renovated\n",
       "12         1.4       basement\n",
       "13         1.3      Floor_1.5\n",
       "14         2.1      Floor_2.0\n",
       "15         1.0      Floor_2.5\n",
       "16         1.4      Floor_3.0\n",
       "17         1.0      Floor_3.5\n",
       "18         1.0    condition_1\n",
       "19         1.0    condition_2\n",
       "20         1.2    condition_4\n",
       "21         1.2    condition_5"
      ]
     },
     "execution_count": 58,
     "metadata": {},
     "output_type": "execute_result"
    }
   ],
   "source": [
    "vif.round(1)"
   ]
  },
  {
   "cell_type": "code",
   "execution_count": 59,
   "metadata": {},
   "outputs": [],
   "source": [
    "X=pd.DataFrame(X,columns=['bedrooms', 'bathrooms', 'waterfront', 'view', 'grade',\n",
    "       'yr_built', 'lat', 'long', 'sqft_living15', 'sqft_lot15', 'renovated',\n",
    "       'basement', 'Floor_1.5', 'Floor_2.0', 'Floor_2.5',\n",
    "       'Floor_3.0', 'Floor_3.5', 'condition_1', 'condition_2', 'condition_4', 'condition_5'])"
   ]
  },
  {
   "cell_type": "code",
   "execution_count": 60,
   "metadata": {},
   "outputs": [],
   "source": [
    "df_usa=pd.merge(y,X,left_index=True, right_index=True) #intercept 변수를 없앤 X와 y 데이터를 df_usa에 다시 합쳐줍니다."
   ]
  },
  {
   "cell_type": "code",
   "execution_count": 61,
   "metadata": {},
   "outputs": [
    {
     "data": {
      "text/html": [
       "<div>\n",
       "<style scoped>\n",
       "    .dataframe tbody tr th:only-of-type {\n",
       "        vertical-align: middle;\n",
       "    }\n",
       "\n",
       "    .dataframe tbody tr th {\n",
       "        vertical-align: top;\n",
       "    }\n",
       "\n",
       "    .dataframe thead th {\n",
       "        text-align: right;\n",
       "    }\n",
       "</style>\n",
       "<table border=\"1\" class=\"dataframe\">\n",
       "  <thead>\n",
       "    <tr style=\"text-align: right;\">\n",
       "      <th></th>\n",
       "      <th>price</th>\n",
       "      <th>bedrooms</th>\n",
       "      <th>bathrooms</th>\n",
       "      <th>waterfront</th>\n",
       "      <th>view</th>\n",
       "      <th>grade</th>\n",
       "      <th>yr_built</th>\n",
       "      <th>lat</th>\n",
       "      <th>long</th>\n",
       "      <th>sqft_living15</th>\n",
       "      <th>...</th>\n",
       "      <th>basement</th>\n",
       "      <th>Floor_1.5</th>\n",
       "      <th>Floor_2.0</th>\n",
       "      <th>Floor_2.5</th>\n",
       "      <th>Floor_3.0</th>\n",
       "      <th>Floor_3.5</th>\n",
       "      <th>condition_1</th>\n",
       "      <th>condition_2</th>\n",
       "      <th>condition_4</th>\n",
       "      <th>condition_5</th>\n",
       "    </tr>\n",
       "  </thead>\n",
       "  <tbody>\n",
       "    <tr>\n",
       "      <th>0</th>\n",
       "      <td>12.309987</td>\n",
       "      <td>3</td>\n",
       "      <td>1</td>\n",
       "      <td>0</td>\n",
       "      <td>0</td>\n",
       "      <td>7</td>\n",
       "      <td>1955</td>\n",
       "      <td>47.5112</td>\n",
       "      <td>-122.257</td>\n",
       "      <td>1340</td>\n",
       "      <td>...</td>\n",
       "      <td>0</td>\n",
       "      <td>0</td>\n",
       "      <td>0</td>\n",
       "      <td>0</td>\n",
       "      <td>0</td>\n",
       "      <td>0</td>\n",
       "      <td>0</td>\n",
       "      <td>0</td>\n",
       "      <td>0</td>\n",
       "      <td>0</td>\n",
       "    </tr>\n",
       "    <tr>\n",
       "      <th>1</th>\n",
       "      <td>13.195616</td>\n",
       "      <td>3</td>\n",
       "      <td>2</td>\n",
       "      <td>0</td>\n",
       "      <td>0</td>\n",
       "      <td>7</td>\n",
       "      <td>1951</td>\n",
       "      <td>47.7210</td>\n",
       "      <td>-122.319</td>\n",
       "      <td>1690</td>\n",
       "      <td>...</td>\n",
       "      <td>1</td>\n",
       "      <td>0</td>\n",
       "      <td>1</td>\n",
       "      <td>0</td>\n",
       "      <td>0</td>\n",
       "      <td>0</td>\n",
       "      <td>0</td>\n",
       "      <td>0</td>\n",
       "      <td>0</td>\n",
       "      <td>0</td>\n",
       "    </tr>\n",
       "    <tr>\n",
       "      <th>2</th>\n",
       "      <td>12.100718</td>\n",
       "      <td>2</td>\n",
       "      <td>1</td>\n",
       "      <td>0</td>\n",
       "      <td>0</td>\n",
       "      <td>6</td>\n",
       "      <td>1933</td>\n",
       "      <td>47.7379</td>\n",
       "      <td>-122.233</td>\n",
       "      <td>2720</td>\n",
       "      <td>...</td>\n",
       "      <td>0</td>\n",
       "      <td>0</td>\n",
       "      <td>0</td>\n",
       "      <td>0</td>\n",
       "      <td>0</td>\n",
       "      <td>0</td>\n",
       "      <td>0</td>\n",
       "      <td>0</td>\n",
       "      <td>0</td>\n",
       "      <td>0</td>\n",
       "    </tr>\n",
       "    <tr>\n",
       "      <th>3</th>\n",
       "      <td>13.311331</td>\n",
       "      <td>4</td>\n",
       "      <td>3</td>\n",
       "      <td>0</td>\n",
       "      <td>0</td>\n",
       "      <td>7</td>\n",
       "      <td>1965</td>\n",
       "      <td>47.5208</td>\n",
       "      <td>-122.393</td>\n",
       "      <td>1360</td>\n",
       "      <td>...</td>\n",
       "      <td>1</td>\n",
       "      <td>0</td>\n",
       "      <td>0</td>\n",
       "      <td>0</td>\n",
       "      <td>0</td>\n",
       "      <td>0</td>\n",
       "      <td>0</td>\n",
       "      <td>0</td>\n",
       "      <td>0</td>\n",
       "      <td>1</td>\n",
       "    </tr>\n",
       "    <tr>\n",
       "      <th>4</th>\n",
       "      <td>13.142168</td>\n",
       "      <td>3</td>\n",
       "      <td>2</td>\n",
       "      <td>0</td>\n",
       "      <td>0</td>\n",
       "      <td>8</td>\n",
       "      <td>1987</td>\n",
       "      <td>47.6168</td>\n",
       "      <td>-122.045</td>\n",
       "      <td>1800</td>\n",
       "      <td>...</td>\n",
       "      <td>0</td>\n",
       "      <td>0</td>\n",
       "      <td>0</td>\n",
       "      <td>0</td>\n",
       "      <td>0</td>\n",
       "      <td>0</td>\n",
       "      <td>0</td>\n",
       "      <td>0</td>\n",
       "      <td>0</td>\n",
       "      <td>0</td>\n",
       "    </tr>\n",
       "  </tbody>\n",
       "</table>\n",
       "<p>5 rows × 22 columns</p>\n",
       "</div>"
      ],
      "text/plain": [
       "       price  bedrooms  bathrooms  waterfront  view  grade  yr_built      lat  \\\n",
       "0  12.309987         3          1           0     0      7      1955  47.5112   \n",
       "1  13.195616         3          2           0     0      7      1951  47.7210   \n",
       "2  12.100718         2          1           0     0      6      1933  47.7379   \n",
       "3  13.311331         4          3           0     0      7      1965  47.5208   \n",
       "4  13.142168         3          2           0     0      8      1987  47.6168   \n",
       "\n",
       "      long  sqft_living15     ...       basement  Floor_1.5  Floor_2.0  \\\n",
       "0 -122.257           1340     ...              0          0          0   \n",
       "1 -122.319           1690     ...              1          0          1   \n",
       "2 -122.233           2720     ...              0          0          0   \n",
       "3 -122.393           1360     ...              1          0          0   \n",
       "4 -122.045           1800     ...              0          0          0   \n",
       "\n",
       "   Floor_2.5  Floor_3.0  Floor_3.5  condition_1  condition_2  condition_4  \\\n",
       "0          0          0          0            0            0            0   \n",
       "1          0          0          0            0            0            0   \n",
       "2          0          0          0            0            0            0   \n",
       "3          0          0          0            0            0            0   \n",
       "4          0          0          0            0            0            0   \n",
       "\n",
       "   condition_5  \n",
       "0            0  \n",
       "1            0  \n",
       "2            0  \n",
       "3            1  \n",
       "4            0  \n",
       "\n",
       "[5 rows x 22 columns]"
      ]
     },
     "execution_count": 61,
     "metadata": {},
     "output_type": "execute_result"
    }
   ],
   "source": [
    "df_usa.head() # 잘됐는지 확인"
   ]
  },
  {
   "cell_type": "code",
   "execution_count": 62,
   "metadata": {},
   "outputs": [],
   "source": [
    "from sklearn.model_selection import train_test_split, KFold, cross_val_score \n",
    "from sklearn.metrics import explained_variance_score, median_absolute_error, r2_score, mean_squared_error, accuracy_score, confusion_matrix, classification_report, fbeta_score #To evaluate our model\n",
    "\n",
    "from sklearn.model_selection import GridSearchCV"
   ]
  },
  {
   "cell_type": "code",
   "execution_count": 63,
   "metadata": {},
   "outputs": [],
   "source": [
    "from sklearn.linear_model import SGDRegressor\n",
    "from sklearn.model_selection import KFold, cross_val_score, train_test_split \n",
    "from sklearn.preprocessing import LabelEncoder, OneHotEncoder, MinMaxScaler \n",
    "from sklearn.linear_model import Lasso, Ridge, ElasticNet, RANSACRegressor, SGDRegressor, HuberRegressor, BayesianRidge \n",
    "from sklearn.ensemble import RandomForestRegressor, BaggingRegressor, AdaBoostRegressor, GradientBoostingRegressor, ExtraTreesRegressor  \n",
    "from xgboost import XGBRegressor, plot_importance \n",
    "from sklearn.svm import SVR, SVC, LinearSVC \n",
    "from sklearn.tree import DecisionTreeRegressor \n",
    "from sklearn.neighbors import KNeighborsRegressor\n",
    "from sklearn.pipeline import Pipeline \n",
    "from sklearn.decomposition import KernelPCA, PCA \n",
    "from sklearn.feature_selection import SelectFromModel \n",
    "from sklearn.model_selection import learning_curve, validation_curve, GridSearchCV \n",
    "from sklearn.base import clone \n",
    "from sklearn.metrics import mean_squared_error as MSE"
   ]
  },
  {
   "cell_type": "code",
   "execution_count": 64,
   "metadata": {},
   "outputs": [],
   "source": [
    "up=df_usa.loc[df_usa['lat']>47.5]\n",
    "down=df_usa.loc[df_usa['lat']<=47.5]"
   ]
  },
  {
   "cell_type": "code",
   "execution_count": 65,
   "metadata": {},
   "outputs": [],
   "source": [
    "up_price=up['price']\n",
    "down_price=down['price']"
   ]
  },
  {
   "cell_type": "code",
   "execution_count": 66,
   "metadata": {},
   "outputs": [
    {
     "data": {
      "text/plain": [
       "F_onewayResult(statistic=8048.441304525035, pvalue=0.0)"
      ]
     },
     "execution_count": 66,
     "metadata": {},
     "output_type": "execute_result"
    }
   ],
   "source": [
    "import scipy.stats as stats\n",
    "\n",
    "stats.f_oneway(up_price,down_price)"
   ]
  },
  {
   "cell_type": "code",
   "execution_count": 67,
   "metadata": {},
   "outputs": [
    {
     "name": "stdout",
     "output_type": "stream",
     "text": [
      "BartlettResult(statistic=377.61860400568156, pvalue=4.1061310615048224e-84)\n",
      "FlignerResult(statistic=298.3080819277263, pvalue=7.698156793968841e-67)\n",
      "LeveneResult(statistic=294.4485290843442, pvalue=1.525407785525752e-65)\n"
     ]
    }
   ],
   "source": [
    "#up과 down의 가격 차이가 존재하는지 알아보기 위해 먼저 등분산 검정을 진행합니다.\n",
    "import scipy as sp\n",
    "print(sp.stats.bartlett(up_price, down_price))\n",
    "print(sp.stats.fligner(up_price, down_price))\n",
    "print(sp.stats.levene(up_price, down_price))"
   ]
  },
  {
   "cell_type": "code",
   "execution_count": 68,
   "metadata": {},
   "outputs": [],
   "source": [
    "#검정 결과 가격의 분산이 동일 하다는 귀무가설을 기각시키므로 up,down의 가격의 등분산은 같지 않습니다."
   ]
  },
  {
   "cell_type": "code",
   "execution_count": 69,
   "metadata": {},
   "outputs": [
    {
     "name": "stdout",
     "output_type": "stream",
     "text": [
      "The t-statistic and p-value assuming equal variances is 89.713 and 0.000.\n",
      "The t-statistic and p-value not assuming equal variances is 97.153 and 0.000\n"
     ]
    }
   ],
   "source": [
    "#두 집단의 평균을 비교하는 독립 표본 t검정을 진행합니다.\n",
    "import numpy as np\n",
    "from scipy import stats\n",
    " \n",
    "\n",
    "tTestResult = stats.ttest_ind(up_price,down_price)\n",
    " \n",
    "#perform t-test NOT assuming equal variances\n",
    "tTestResultDiffVar = stats.ttest_ind(up_price, down_price, equal_var=False)\n",
    " \n",
    "print(\"The t-statistic and p-value assuming equal variances is %.3f and %.3f.\" % tTestResult)\n",
    "print(\"The t-statistic and p-value not assuming equal variances is %.3f and %.3f\" % tTestResultDiffVar)\n"
   ]
  },
  {
   "cell_type": "code",
   "execution_count": 70,
   "metadata": {},
   "outputs": [],
   "source": [
    "#검정 결과 up과 down의 가격은 차이가 있다고 할 수 있습니다."
   ]
  },
  {
   "cell_type": "code",
   "execution_count": 71,
   "metadata": {},
   "outputs": [],
   "source": [
    "X=up.drop('price',axis=1)\n",
    "y=up[['price']]\n",
    "X['Intercept']=1"
   ]
  },
  {
   "cell_type": "code",
   "execution_count": 72,
   "metadata": {},
   "outputs": [],
   "source": [
    "X=pd.DataFrame(X,columns=['Intercept','bedrooms', 'bathrooms', 'waterfront', 'view', 'grade',\n",
    "       'yr_built', 'lat', 'long', 'sqft_living15', 'sqft_lot15', 'renovated',\n",
    "       'basement', 'Floor_1.5', 'Floor_2.0', 'Floor_2.5',\n",
    "       'Floor_3.0', 'Floor_3.5', 'condition_1', 'condition_2', 'condition_4', 'condition_5'])"
   ]
  },
  {
   "cell_type": "code",
   "execution_count": 73,
   "metadata": {},
   "outputs": [],
   "source": [
    "# Fit X to y\n",
    "result = sm.OLS(y, X).fit()"
   ]
  },
  {
   "cell_type": "code",
   "execution_count": 74,
   "metadata": {},
   "outputs": [
    {
     "name": "stdout",
     "output_type": "stream",
     "text": [
      "                            OLS Regression Results                            \n",
      "==============================================================================\n",
      "Dep. Variable:                  price   R-squared:                       0.685\n",
      "Model:                            OLS   Adj. R-squared:                  0.685\n",
      "Method:                 Least Squares   F-statistic:                     1470.\n",
      "Date:                Wed, 09 Jan 2019   Prob (F-statistic):               0.00\n",
      "Time:                        08:28:43   Log-Likelihood:                -580.41\n",
      "No. Observations:               14189   AIC:                             1205.\n",
      "Df Residuals:                   14167   BIC:                             1371.\n",
      "Df Model:                          21                                         \n",
      "Covariance Type:            nonrobust                                         \n",
      "=================================================================================\n",
      "                    coef    std err          t      P>|t|      [0.025      0.975]\n",
      "---------------------------------------------------------------------------------\n",
      "Intercept       -18.0656      2.758     -6.550      0.000     -23.472     -12.659\n",
      "bedrooms          0.0325      0.003     10.556      0.000       0.026       0.039\n",
      "bathrooms         0.0751      0.005     16.404      0.000       0.066       0.084\n",
      "waterfront        0.4794      0.030     15.992      0.000       0.421       0.538\n",
      "view              0.0435      0.003     13.630      0.000       0.037       0.050\n",
      "grade             0.2033      0.003     65.925      0.000       0.197       0.209\n",
      "yr_built         -0.0030      0.000    -26.026      0.000      -0.003      -0.003\n",
      "lat               0.3007      0.028     10.733      0.000       0.246       0.356\n",
      "long             -0.1684      0.021     -8.152      0.000      -0.209      -0.128\n",
      "sqft_living15     0.0002   4.93e-06     34.599      0.000       0.000       0.000\n",
      "sqft_lot15    -1.577e-07   1.12e-07     -1.414      0.157   -3.76e-07    6.09e-08\n",
      "renovated         0.0942      0.011      8.617      0.000       0.073       0.116\n",
      "basement          0.0603      0.005     12.205      0.000       0.051       0.070\n",
      "Floor_1.5         0.0518      0.008      6.595      0.000       0.036       0.067\n",
      "Floor_2.0         0.0570      0.006      8.979      0.000       0.045       0.069\n",
      "Floor_2.5         0.1127      0.024      4.728      0.000       0.066       0.159\n",
      "Floor_3.0         0.0852      0.013      6.583      0.000       0.060       0.111\n",
      "Floor_3.5         0.1397      0.103      1.352      0.176      -0.063       0.342\n",
      "condition_1      -0.2233      0.060     -3.737      0.000      -0.340      -0.106\n",
      "condition_2      -0.1425      0.028     -5.171      0.000      -0.197      -0.088\n",
      "condition_4       0.0902      0.005     16.547      0.000       0.080       0.101\n",
      "condition_5       0.1372      0.008     16.540      0.000       0.121       0.153\n",
      "==============================================================================\n",
      "Omnibus:                      311.558   Durbin-Watson:                   1.982\n",
      "Prob(Omnibus):                  0.000   Jarque-Bera (JB):              679.077\n",
      "Skew:                           0.071   Prob(JB):                    3.47e-148\n",
      "Kurtosis:                       4.062   Cond. No.                     2.99e+07\n",
      "==============================================================================\n",
      "\n",
      "Warnings:\n",
      "[1] Standard Errors assume that the covariance matrix of the errors is correctly specified.\n",
      "[2] The condition number is large, 2.99e+07. This might indicate that there are\n",
      "strong multicollinearity or other numerical problems.\n"
     ]
    }
   ],
   "source": [
    "print(result.summary())"
   ]
  },
  {
   "cell_type": "markdown",
   "metadata": {},
   "source": [
    "## sqft_lot15 변수의 다중공선성을 확인합니다. (10보다 작은지 확인)"
   ]
  },
  {
   "cell_type": "code",
   "execution_count": 75,
   "metadata": {},
   "outputs": [],
   "source": [
    "vif = pd.DataFrame()\n",
    "vif[\"VIF Factor\"] = [variance_inflation_factor(X.values, i) for i in range(X.shape[1])]\n",
    "vif[\"features\"] = X.columns"
   ]
  },
  {
   "cell_type": "code",
   "execution_count": 76,
   "metadata": {},
   "outputs": [
    {
     "data": {
      "text/html": [
       "<div>\n",
       "<style scoped>\n",
       "    .dataframe tbody tr th:only-of-type {\n",
       "        vertical-align: middle;\n",
       "    }\n",
       "\n",
       "    .dataframe tbody tr th {\n",
       "        vertical-align: top;\n",
       "    }\n",
       "\n",
       "    .dataframe thead th {\n",
       "        text-align: right;\n",
       "    }\n",
       "</style>\n",
       "<table border=\"1\" class=\"dataframe\">\n",
       "  <thead>\n",
       "    <tr style=\"text-align: right;\">\n",
       "      <th></th>\n",
       "      <th>VIF Factor</th>\n",
       "      <th>features</th>\n",
       "    </tr>\n",
       "  </thead>\n",
       "  <tbody>\n",
       "    <tr>\n",
       "      <th>0</th>\n",
       "      <td>1696242.9</td>\n",
       "      <td>Intercept</td>\n",
       "    </tr>\n",
       "    <tr>\n",
       "      <th>1</th>\n",
       "      <td>1.4</td>\n",
       "      <td>bedrooms</td>\n",
       "    </tr>\n",
       "    <tr>\n",
       "      <th>2</th>\n",
       "      <td>2.1</td>\n",
       "      <td>bathrooms</td>\n",
       "    </tr>\n",
       "    <tr>\n",
       "      <th>3</th>\n",
       "      <td>1.2</td>\n",
       "      <td>waterfront</td>\n",
       "    </tr>\n",
       "    <tr>\n",
       "      <th>4</th>\n",
       "      <td>1.4</td>\n",
       "      <td>view</td>\n",
       "    </tr>\n",
       "    <tr>\n",
       "      <th>5</th>\n",
       "      <td>2.8</td>\n",
       "      <td>grade</td>\n",
       "    </tr>\n",
       "    <tr>\n",
       "      <th>6</th>\n",
       "      <td>2.9</td>\n",
       "      <td>yr_built</td>\n",
       "    </tr>\n",
       "    <tr>\n",
       "      <th>7</th>\n",
       "      <td>1.1</td>\n",
       "      <td>lat</td>\n",
       "    </tr>\n",
       "    <tr>\n",
       "      <th>8</th>\n",
       "      <td>1.9</td>\n",
       "      <td>long</td>\n",
       "    </tr>\n",
       "    <tr>\n",
       "      <th>9</th>\n",
       "      <td>2.6</td>\n",
       "      <td>sqft_living15</td>\n",
       "    </tr>\n",
       "    <tr>\n",
       "      <th>10</th>\n",
       "      <td>1.2</td>\n",
       "      <td>sqft_lot15</td>\n",
       "    </tr>\n",
       "    <tr>\n",
       "      <th>11</th>\n",
       "      <td>1.2</td>\n",
       "      <td>renovated</td>\n",
       "    </tr>\n",
       "    <tr>\n",
       "      <th>12</th>\n",
       "      <td>1.3</td>\n",
       "      <td>basement</td>\n",
       "    </tr>\n",
       "    <tr>\n",
       "      <th>13</th>\n",
       "      <td>1.3</td>\n",
       "      <td>Floor_1.5</td>\n",
       "    </tr>\n",
       "    <tr>\n",
       "      <th>14</th>\n",
       "      <td>2.1</td>\n",
       "      <td>Floor_2.0</td>\n",
       "    </tr>\n",
       "    <tr>\n",
       "      <th>15</th>\n",
       "      <td>1.0</td>\n",
       "      <td>Floor_2.5</td>\n",
       "    </tr>\n",
       "    <tr>\n",
       "      <th>16</th>\n",
       "      <td>1.5</td>\n",
       "      <td>Floor_3.0</td>\n",
       "    </tr>\n",
       "    <tr>\n",
       "      <th>17</th>\n",
       "      <td>1.0</td>\n",
       "      <td>Floor_3.5</td>\n",
       "    </tr>\n",
       "    <tr>\n",
       "      <th>18</th>\n",
       "      <td>1.0</td>\n",
       "      <td>condition_1</td>\n",
       "    </tr>\n",
       "    <tr>\n",
       "      <th>19</th>\n",
       "      <td>1.0</td>\n",
       "      <td>condition_2</td>\n",
       "    </tr>\n",
       "    <tr>\n",
       "      <th>20</th>\n",
       "      <td>1.2</td>\n",
       "      <td>condition_4</td>\n",
       "    </tr>\n",
       "    <tr>\n",
       "      <th>21</th>\n",
       "      <td>1.2</td>\n",
       "      <td>condition_5</td>\n",
       "    </tr>\n",
       "  </tbody>\n",
       "</table>\n",
       "</div>"
      ],
      "text/plain": [
       "    VIF Factor       features\n",
       "0    1696242.9      Intercept\n",
       "1          1.4       bedrooms\n",
       "2          2.1      bathrooms\n",
       "3          1.2     waterfront\n",
       "4          1.4           view\n",
       "5          2.8          grade\n",
       "6          2.9       yr_built\n",
       "7          1.1            lat\n",
       "8          1.9           long\n",
       "9          2.6  sqft_living15\n",
       "10         1.2     sqft_lot15\n",
       "11         1.2      renovated\n",
       "12         1.3       basement\n",
       "13         1.3      Floor_1.5\n",
       "14         2.1      Floor_2.0\n",
       "15         1.0      Floor_2.5\n",
       "16         1.5      Floor_3.0\n",
       "17         1.0      Floor_3.5\n",
       "18         1.0    condition_1\n",
       "19         1.0    condition_2\n",
       "20         1.2    condition_4\n",
       "21         1.2    condition_5"
      ]
     },
     "execution_count": 76,
     "metadata": {},
     "output_type": "execute_result"
    }
   ],
   "source": [
    "vif.round(1) #그냥 진행합니다."
   ]
  },
  {
   "cell_type": "code",
   "execution_count": 77,
   "metadata": {},
   "outputs": [
    {
     "data": {
      "text/plain": [
       "PCA(copy=True, iterated_power='auto', n_components=3, random_state=None,\n",
       "  svd_solver='auto', tol=0.0, whiten=False)"
      ]
     },
     "execution_count": 77,
     "metadata": {},
     "output_type": "execute_result"
    }
   ],
   "source": [
    "pca = PCA(n_components=3)\n",
    "pca.fit(X)"
   ]
  },
  {
   "cell_type": "code",
   "execution_count": 78,
   "metadata": {},
   "outputs": [
    {
     "name": "stdout",
     "output_type": "stream",
     "text": [
      "singular value : [2431393.02127033   80855.96032185    3545.89302166]\n",
      "singular vector :\n",
      " [[-0.00000000e+00  2.76439519e-20 -3.24897210e-21]\n",
      " [ 2.71074526e-06  5.09420298e-04 -3.19576479e-04]\n",
      " [ 2.53460482e-06  4.50383972e-04 -7.53794359e-03]\n",
      " [ 7.21210160e-08  1.07776224e-05  1.00098828e-04]\n",
      " [ 8.47140029e-07  3.27086985e-04  3.64972460e-03]\n",
      " [ 7.74647211e-06  1.15959143e-03 -1.07684676e-02]\n",
      " [ 1.35917189e-04  1.30296158e-02 -9.99771937e-01]\n",
      " [ 2.11545846e-07 -6.76050658e-06 -3.31047398e-05]\n",
      " [ 2.18203776e-06  7.38415787e-05 -1.51371860e-03]\n",
      " [ 8.07384175e-03  9.99881510e-01  1.30453677e-02]\n",
      " [ 9.99967397e-01 -8.07493159e-03  3.06779078e-05]\n",
      " [ 1.80360323e-08  1.99824040e-06  1.63776264e-03]\n",
      " [-1.44781925e-06  1.43170260e-05  2.70846063e-03]\n",
      " [-3.97821546e-07 -4.76786549e-05  4.02326616e-03]\n",
      " [ 1.24795561e-06  2.59326783e-04 -6.80513931e-03]\n",
      " [-4.99996315e-08  4.61952672e-06  5.58492782e-05]\n",
      " [-7.74442970e-07 -3.38871915e-05 -1.99680259e-03]\n",
      " [-9.30951510e-09 -4.71930209e-07 -2.14548380e-05]\n",
      " [-4.05829654e-09  1.09582868e-07  5.39581179e-05]\n",
      " [ 1.04435729e-07 -6.09063678e-06  1.33862807e-04]\n",
      " [ 2.42190226e-08 -2.19053905e-05  3.94996886e-03]\n",
      " [-4.44298815e-07 -1.50779806e-05  2.29286989e-03]]\n",
      "explained variance ratio : [9.98893198e-01 1.10467062e-03 2.12451588e-06]\n"
     ]
    }
   ],
   "source": [
    "print('singular value :', pca.singular_values_)\n",
    "print('singular vector :\\n', pca.components_.T)\n",
    "print('explained variance ratio :', pca.explained_variance_ratio_)"
   ]
  },
  {
   "cell_type": "code",
   "execution_count": 79,
   "metadata": {},
   "outputs": [
    {
     "name": "stdout",
     "output_type": "stream",
     "text": [
      "선택할 차원 수 : 1\n"
     ]
    }
   ],
   "source": [
    "cumsum = np.cumsum(pca.explained_variance_ratio_)\n",
    "d = np.argmax(cumsum >= 0.95) + 1\n",
    "print('선택할 차원 수 :', d)"
   ]
  },
  {
   "cell_type": "code",
   "execution_count": 80,
   "metadata": {},
   "outputs": [],
   "source": [
    "X_train, X_test, y_train, y_test = train_test_split(X, y, test_size = 0.30, random_state=3)"
   ]
  },
  {
   "cell_type": "code",
   "execution_count": 81,
   "metadata": {},
   "outputs": [
    {
     "name": "stdout",
     "output_type": "stream",
     "text": [
      "Scaled_Ridge: 0.682894 (+/- 0.015625)\n",
      "Scaled_Lasso: -0.001091 (+/- 0.002155)\n",
      "Scaled_Elastic: -0.001091 (+/- 0.002155)\n",
      "Scaled_SVR: 0.680684 (+/- 0.015557)\n",
      "Scaled_RF_reg: 0.808841 (+/- 0.011857)\n",
      "Scaled_ET_reg: 0.803174 (+/- 0.015308)\n",
      "Scaled_BR_reg: 0.807806 (+/- 0.012412)\n",
      "Scaled_Hub-Reg: 0.681436 (+/- 0.015448)\n",
      "Scaled_BayRidge: 0.682906 (+/- 0.015633)\n",
      "Scaled_XGB_reg: 0.813860 (+/- 0.013910)\n",
      "Scaled_DT_reg: 0.648467 (+/- 0.028599)\n",
      "Scaled_KNN_reg: 0.695096 (+/- 0.015898)\n",
      "Scaled_Gboost-Reg: 0.815699 (+/- 0.012378)\n",
      "Scaled_RFR_PCA: -0.193830 (+/- 0.074374)\n",
      "Scaled_XGBR_PCA: 0.178622 (+/- 0.019909)\n"
     ]
    },
    {
     "data": {
      "image/png": "[encoded data removed]",
      "text/plain": [
       "<Figure size 1080x432 with 1 Axes>"
      ]
     },
     "metadata": {
      "needs_background": "light"
     },
     "output_type": "display_data"
    }
   ],
   "source": [
    "pipelines = []\n",
    "seed = 2\n",
    "\n",
    "pipelines.append(\n",
    "                (\"Scaled_Ridge\", \n",
    "                 Pipeline([\n",
    "                     (\"Scaler\", MinMaxScaler()), \n",
    "                     (\"Ridge\", Ridge(random_state=seed, tol=10 ))\n",
    "                      ]))\n",
    "                )\n",
    "pipelines.append(\n",
    "                (\"Scaled_Lasso\", \n",
    "                 Pipeline([\n",
    "                     (\"Scaler\", MinMaxScaler()), \n",
    "                     (\"Lasso\", Lasso(random_state=seed, tol=1))\n",
    "                      ]))\n",
    "                )\n",
    "pipelines.append(\n",
    "                (\"Scaled_Elastic\", \n",
    "                 Pipeline([\n",
    "                     (\"Scaler\", MinMaxScaler()), \n",
    "                     (\"Lasso\", ElasticNet(random_state=seed))\n",
    "                      ]))\n",
    "                )\n",
    "\n",
    "pipelines.append(\n",
    "                (\"Scaled_SVR\",\n",
    "                 Pipeline([\n",
    "                     (\"Scaler\", MinMaxScaler()),\n",
    "                     (\"SVR\",  SVR(kernel='linear', C=1e2, degree=5))\n",
    "                 ])\n",
    "                )\n",
    "                )\n",
    "\n",
    "pipelines.append(\n",
    "                (\"Scaled_RF_reg\",\n",
    "                 Pipeline([\n",
    "                     (\"Scaler\", MinMaxScaler()),\n",
    "                     (\"RF\", RandomForestRegressor(random_state=seed))\n",
    "                 ])\n",
    "                )\n",
    "                )\n",
    "\n",
    "pipelines.append(\n",
    "                (\"Scaled_ET_reg\",\n",
    "                 Pipeline([\n",
    "                     (\"Scaler\", MinMaxScaler()),\n",
    "                     (\"ET\", ExtraTreesRegressor(random_state=seed))\n",
    "                 ])\n",
    "                )\n",
    "                )\n",
    "pipelines.append(\n",
    "                (\"Scaled_BR_reg\",\n",
    "                 Pipeline([\n",
    "                     (\"Scaler\", MinMaxScaler()),\n",
    "                     (\"BR\", BaggingRegressor(random_state=seed))\n",
    "                 ]))) \n",
    "\n",
    "pipelines.append(\n",
    "                (\"Scaled_Hub-Reg\",\n",
    "                 Pipeline([\n",
    "                     (\"Scaler\", MinMaxScaler()),\n",
    "                     (\"Hub-Reg\", HuberRegressor())\n",
    "                 ]))) \n",
    "pipelines.append(\n",
    "                (\"Scaled_BayRidge\",\n",
    "                 Pipeline([\n",
    "                     (\"Scaler\", MinMaxScaler()),\n",
    "                     (\"BR\", BayesianRidge())\n",
    "                 ]))) \n",
    "\n",
    "pipelines.append(\n",
    "                (\"Scaled_XGB_reg\",\n",
    "                 Pipeline([\n",
    "                     (\"Scaler\", MinMaxScaler()),\n",
    "                     (\"XGBR\", XGBRegressor(seed=seed))\n",
    "                 ]))) \n",
    "\n",
    "pipelines.append(\n",
    "                (\"Scaled_DT_reg\",\n",
    "                 Pipeline([\n",
    "                     (\"Scaler\", MinMaxScaler()),\n",
    "                     (\"DT_reg\", DecisionTreeRegressor())\n",
    "                 ]))) \n",
    "\n",
    "pipelines.append(\n",
    "                (\"Scaled_KNN_reg\",\n",
    "                 Pipeline([\n",
    "                     (\"Scaler\", MinMaxScaler()),\n",
    "                     (\"KNN_reg\", KNeighborsRegressor())\n",
    "                 ])))\n",
    "\n",
    "pipelines.append(\n",
    "                (\"Scaled_Gboost-Reg\",\n",
    "                 Pipeline([\n",
    "                     (\"Scaler\", MinMaxScaler()),\n",
    "                     (\"GBoost-Reg\", GradientBoostingRegressor())\n",
    "                 ])))\n",
    "\n",
    "pipelines.append(\n",
    "                (\"Scaled_RFR_PCA\",\n",
    "                 Pipeline([\n",
    "                     (\"Scaler\", MinMaxScaler()),\n",
    "                     (\"PCA\", PCA(n_components=1)),\n",
    "                     (\"XGB\", RandomForestRegressor())\n",
    "                 ])))\n",
    "\n",
    "pipelines.append(\n",
    "                (\"Scaled_XGBR_PCA\",\n",
    "                 Pipeline([\n",
    "                     (\"Scaler\", MinMaxScaler()),\n",
    "                     (\"PCA\", PCA(n_components=1)),\n",
    "                     (\"XGB\", XGBRegressor())\n",
    "                 ])))\n",
    "\n",
    "\n",
    "scoring = 'r2'\n",
    "n_folds = 10\n",
    "\n",
    "results, names  = [], [] \n",
    "\n",
    "for name, model  in pipelines:\n",
    "    kfold = KFold(n_splits=n_folds, random_state=seed)\n",
    "    cv_results = cross_val_score(model, X_train, y_train, cv= kfold,\n",
    "                                 scoring=scoring, n_jobs=-1)    \n",
    "    names.append(name)\n",
    "    results.append(cv_results)    \n",
    "    msg = \"%s: %f (+/- %f)\" % (name, cv_results.mean(),  cv_results.std())\n",
    "    print(msg)\n",
    "    \n",
    "# 상자그림을 이용해 알고리즘끼리의 성능 차이를 시각적으로 보여 쥽니다.\n",
    "fig = plt.figure(figsize=(15,6))\n",
    "fig.suptitle('Algorithm Comparison', fontsize=22)\n",
    "ax = fig.add_subplot(111)\n",
    "sns.boxplot(x=names, y=results)\n",
    "ax.set_xticklabels(names)\n",
    "ax.set_xlabel(\"Algorithmn Name\", fontsize=20)\n",
    "ax.set_ylabel(\"R Squared Score of Models\", fontsize=18)\n",
    "ax.set_xticklabels(ax.get_xticklabels(),rotation=45)\n",
    "plt.show()"
   ]
  },
  {
   "cell_type": "markdown",
   "metadata": {},
   "source": [
    "# 가장 괜찮게 나온 모델들을 그리드 서치를 통해 성능을 올려봅니다."
   ]
  },
  {
   "cell_type": "code",
   "execution_count": 82,
   "metadata": {},
   "outputs": [],
   "source": [
    "n_estimators = [int(x) for x in np.linspace(start = 10, stop = 200, num = 10)]\n",
    "random_state=[int(x) for x in np.linspace(start = 10, stop = 1024, num = 1)]\n",
    "nthread=[int(x) for x in np.linspace(start = 10, stop = 1024, num = 1)]\n",
    "booster='gbtree','gblinear','dart'\n",
    "param_grid = dict(n_estimators=n_estimators,random_state=random_state,booster=booster,nthread=nthread)"
   ]
  },
  {
   "cell_type": "code",
   "execution_count": 83,
   "metadata": {},
   "outputs": [],
   "source": [
    "xgb= XGBRegressor()\n",
    "xgb_grid_search = GridSearchCV(xgb, param_grid, n_jobs=-1)\n",
    "xgb_grid_result = xgb_grid_search.fit(X_train, y_train)"
   ]
  },
  {
   "cell_type": "code",
   "execution_count": 84,
   "metadata": {},
   "outputs": [
    {
     "name": "stdout",
     "output_type": "stream",
     "text": [
      "0.8334294871188348\n"
     ]
    }
   ],
   "source": [
    "print(r2_score(y_test, xgb_grid_result.best_estimator_.predict(X_test)))"
   ]
  },
  {
   "cell_type": "code",
   "execution_count": 85,
   "metadata": {},
   "outputs": [
    {
     "data": {
      "text/plain": [
       "XGBRegressor(base_score=0.5, booster='gbtree', colsample_bylevel=1,\n",
       "       colsample_bytree=1, gamma=0, learning_rate=0.1, max_delta_step=0,\n",
       "       max_depth=3, min_child_weight=1, missing=None, n_estimators=200,\n",
       "       n_jobs=1, nthread=10, objective='reg:linear', random_state=10,\n",
       "       reg_alpha=0, reg_lambda=1, scale_pos_weight=1, seed=None,\n",
       "       silent=True, subsample=1)"
      ]
     },
     "execution_count": 85,
     "metadata": {},
     "output_type": "execute_result"
    }
   ],
   "source": [
    "xgb_grid_result.best_estimator_"
   ]
  },
  {
   "cell_type": "code",
   "execution_count": 86,
   "metadata": {},
   "outputs": [
    {
     "name": "stdout",
     "output_type": "stream",
     "text": [
      "Scores = [0.03546716 0.03589177 0.03024257 0.03658235 0.03861968 0.03063219\n",
      " 0.03429243 0.03158631 0.03396262 0.03077937]\n",
      "CV mse: 0.034 +/- 0.003\n"
     ]
    }
   ],
   "source": [
    "xgb = XGBRegressor(base_score=0.5, booster='gbtree', colsample_bylevel=1,\n",
    "       colsample_bytree=1, gamma=0, learning_rate=0.1, max_delta_step=0,\n",
    "       max_depth=3, min_child_weight=1, missing=None, n_estimators=200,\n",
    "       n_jobs=1, nthread=10, objective='reg:linear', random_state=10,\n",
    "       reg_alpha=0, reg_lambda=1, scale_pos_weight=1, seed=None,\n",
    "       silent=True, subsample=1)\n",
    "xgb_scores = -cross_val_score(xgb, X_train, y_train, cv=10, scoring=\"neg_mean_squared_error\")\n",
    "print('Scores =', xgb_scores)\n",
    "print('CV mse: %.3f +/- %.3f' % (np.mean(xgb_scores), np.std(xgb_scores)))"
   ]
  },
  {
   "cell_type": "code",
   "execution_count": 87,
   "metadata": {},
   "outputs": [],
   "source": [
    "model=xgb.fit(X_train, y_train)"
   ]
  },
  {
   "cell_type": "code",
   "execution_count": 88,
   "metadata": {},
   "outputs": [
    {
     "data": {
      "text/plain": [
       "<matplotlib.axes._subplots.AxesSubplot at 0x1f5d5d30>"
      ]
     },
     "execution_count": 88,
     "metadata": {},
     "output_type": "execute_result"
    },
    {
     "data": {
      "image/png": "[encoded data removed]",
      "text/plain": [
       "<Figure size 1080x576 with 1 Axes>"
      ]
     },
     "metadata": {
      "needs_background": "light"
     },
     "output_type": "display_data"
    }
   ],
   "source": [
    "plt.rcParams['figure.figsize'] = [15, 8]\n",
    "plot_importance(model)"
   ]
  },
  {
   "cell_type": "code",
   "execution_count": 89,
   "metadata": {},
   "outputs": [],
   "source": [
    "X_scale = MinMaxScaler().fit(X_train)\n",
    "X_train_scaled = X_scale.transform(X_train)\n",
    "X_test_scaled = X_scale.transform(X_test)"
   ]
  },
  {
   "cell_type": "code",
   "execution_count": 90,
   "metadata": {},
   "outputs": [],
   "source": [
    "n_estimators = [100,150, 200]\n",
    "max_depth = [2, 4, 6]\n",
    "loss  = ['ls', 'lad', 'huber', 'quantile']\n",
    "random_state=[3]\n",
    "gbr_grid = dict(n_estimators=n_estimators, max_depth=max_depth, loss=loss, random_state=random_state)"
   ]
  },
  {
   "cell_type": "code",
   "execution_count": 91,
   "metadata": {},
   "outputs": [],
   "source": [
    "gbr=GradientBoostingRegressor()\n",
    "gbr_grid_search = GridSearchCV(gbr, gbr_grid, n_jobs=-1)\n",
    "gbr_grid_result = gbr_grid_search.fit(X_train_scaled, y_train)"
   ]
  },
  {
   "cell_type": "code",
   "execution_count": 79,
   "metadata": {},
   "outputs": [
    {
     "name": "stdout",
     "output_type": "stream",
     "text": [
      "0.8409887061928948\n"
     ]
    }
   ],
   "source": [
    "print(r2_score(y_test, gbr_grid_search.best_estimator_.predict(X_test_scaled)))"
   ]
  },
  {
   "cell_type": "code",
   "execution_count": 80,
   "metadata": {},
   "outputs": [
    {
     "data": {
      "text/plain": [
       "GradientBoostingRegressor(alpha=0.9, criterion='friedman_mse', init=None,\n",
       "             learning_rate=0.1, loss='huber', max_depth=6,\n",
       "             max_features=None, max_leaf_nodes=None,\n",
       "             min_impurity_decrease=0.0, min_impurity_split=None,\n",
       "             min_samples_leaf=1, min_samples_split=2,\n",
       "             min_weight_fraction_leaf=0.0, n_estimators=200,\n",
       "             n_iter_no_change=None, presort='auto', random_state=3,\n",
       "             subsample=1.0, tol=0.0001, validation_fraction=0.1, verbose=0,\n",
       "             warm_start=False)"
      ]
     },
     "execution_count": 80,
     "metadata": {},
     "output_type": "execute_result"
    }
   ],
   "source": [
    "gbr_grid_result.best_estimator_"
   ]
  },
  {
   "cell_type": "code",
   "execution_count": 81,
   "metadata": {},
   "outputs": [
    {
     "name": "stdout",
     "output_type": "stream",
     "text": [
      "Scores = [0.03254027 0.03366201 0.0297611  0.03325301 0.03430632 0.02772847\n",
      " 0.03131513 0.02943478 0.03064908 0.02964508]\n",
      "CV mse: 0.031 +/- 0.002\n"
     ]
    }
   ],
   "source": [
    "gbr = GradientBoostingRegressor(alpha=0.9, criterion='friedman_mse', init=None,\n",
    "             learning_rate=0.1, loss='huber', max_depth=6,\n",
    "             max_features=None, max_leaf_nodes=None,\n",
    "             min_impurity_decrease=0.0, min_impurity_split=None,\n",
    "             min_samples_leaf=1, min_samples_split=2,\n",
    "             min_weight_fraction_leaf=0.0, n_estimators=200,\n",
    "             n_iter_no_change=None, presort='auto', random_state=3,\n",
    "             subsample=1.0, tol=0.0001, validation_fraction=0.1, verbose=0,\n",
    "             warm_start=False)\n",
    "gbr_scores = -cross_val_score(gbr, X_train_scaled, y_train, cv=10, scoring=\"neg_mean_squared_error\")\n",
    "print('Scores =', gbr_scores)\n",
    "print('CV mse: %.3f +/- %.3f' % (np.mean(gbr_scores), np.std(gbr_scores)))"
   ]
  },
  {
   "cell_type": "markdown",
   "metadata": {},
   "source": [
    "# 위도 47.5밑에 있는 집들 모델링"
   ]
  },
  {
   "cell_type": "code",
   "execution_count": 92,
   "metadata": {},
   "outputs": [],
   "source": [
    "X2=down.drop('price',axis=1)\n",
    "y2=down[['price']]\n",
    "X2['Intercept']=1"
   ]
  },
  {
   "cell_type": "code",
   "execution_count": 93,
   "metadata": {},
   "outputs": [],
   "source": [
    "X2=pd.DataFrame(X2,columns=['Intercept','bedrooms', 'bathrooms', 'waterfront', 'view', 'grade',\n",
    "       'yr_built', 'lat', 'long', 'sqft_living15', 'sqft_lot15', 'renovated',\n",
    "       'basement', 'Floor_1.5', 'Floor_2.0', 'Floor_2.5',\n",
    "       'Floor_3.0', 'Floor_3.5', 'condition_1', 'condition_2', 'condition_4', 'condition_5'])"
   ]
  },
  {
   "cell_type": "code",
   "execution_count": 94,
   "metadata": {},
   "outputs": [],
   "source": [
    "# Fit X to y\n",
    "result = sm.OLS(y2, X2).fit()"
   ]
  },
  {
   "cell_type": "code",
   "execution_count": 95,
   "metadata": {},
   "outputs": [
    {
     "name": "stdout",
     "output_type": "stream",
     "text": [
      "                            OLS Regression Results                            \n",
      "==============================================================================\n",
      "Dep. Variable:                  price   R-squared:                       0.718\n",
      "Model:                            OLS   Adj. R-squared:                  0.717\n",
      "Method:                 Least Squares   F-statistic:                     810.9\n",
      "Date:                Wed, 09 Jan 2019   Prob (F-statistic):               0.00\n",
      "Time:                        08:33:22   Log-Likelihood:                 1449.9\n",
      "No. Observations:                6396   AIC:                            -2858.\n",
      "Df Residuals:                    6375   BIC:                            -2716.\n",
      "Df Model:                          20                                         \n",
      "Covariance Type:            nonrobust                                         \n",
      "=================================================================================\n",
      "                    coef    std err          t      P>|t|      [0.025      0.975]\n",
      "---------------------------------------------------------------------------------\n",
      "Intercept       -18.7216      3.093     -6.053      0.000     -24.785     -12.658\n",
      "bedrooms          0.0287      0.004      7.282      0.000       0.021       0.036\n",
      "bathrooms         0.0637      0.006     10.799      0.000       0.052       0.075\n",
      "waterfront        0.3976      0.031     12.721      0.000       0.336       0.459\n",
      "view              0.0853      0.005     18.765      0.000       0.076       0.094\n",
      "grade             0.1262      0.004     32.939      0.000       0.119       0.134\n",
      "yr_built          0.0012      0.000      6.729      0.000       0.001       0.002\n",
      "lat               1.1558      0.034     34.446      0.000       1.090       1.222\n",
      "long              0.2241      0.019     11.775      0.000       0.187       0.261\n",
      "sqft_living15     0.0002   6.64e-06     25.705      0.000       0.000       0.000\n",
      "sqft_lot15     1.991e-06   7.61e-08     26.157      0.000    1.84e-06    2.14e-06\n",
      "renovated         0.1616      0.015     10.496      0.000       0.131       0.192\n",
      "basement          0.0539      0.007      8.258      0.000       0.041       0.067\n",
      "Floor_1.5         0.0923      0.011      8.071      0.000       0.070       0.115\n",
      "Floor_2.0         0.0556      0.008      7.120      0.000       0.040       0.071\n",
      "Floor_2.5         0.1664      0.052      3.177      0.001       0.064       0.269\n",
      "Floor_3.0         0.0821      0.137      0.600      0.549      -0.186       0.351\n",
      "Floor_3.5     -1.078e-16    1.1e-16     -0.977      0.329   -3.24e-16    1.09e-16\n",
      "condition_1      -0.0942      0.087     -1.084      0.279      -0.265       0.076\n",
      "condition_2      -0.0828      0.024     -3.388      0.001      -0.131      -0.035\n",
      "condition_4       0.0641      0.006     10.747      0.000       0.052       0.076\n",
      "condition_5       0.1295      0.011     11.875      0.000       0.108       0.151\n",
      "==============================================================================\n",
      "Omnibus:                      423.660   Durbin-Watson:                   2.031\n",
      "Prob(Omnibus):                  0.000   Jarque-Bera (JB):             1918.292\n",
      "Skew:                           0.128   Prob(JB):                         0.00\n",
      "Kurtosis:                       5.671   Cond. No.                     6.71e+21\n",
      "==============================================================================\n",
      "\n",
      "Warnings:\n",
      "[1] Standard Errors assume that the covariance matrix of the errors is correctly specified.\n",
      "[2] The smallest eigenvalue is 2.04e-31. This might indicate that there are\n",
      "strong multicollinearity problems or that the design matrix is singular.\n"
     ]
    }
   ],
   "source": [
    "print(result.summary())"
   ]
  },
  {
   "cell_type": "code",
   "execution_count": 96,
   "metadata": {},
   "outputs": [],
   "source": [
    "vif2 = pd.DataFrame()\n",
    "vif2[\"VIF Factor\"] = [variance_inflation_factor(X2.values, i) for i in range(X2.shape[1])]\n",
    "vif2[\"features\"] = X2.columns"
   ]
  },
  {
   "cell_type": "code",
   "execution_count": 97,
   "metadata": {},
   "outputs": [
    {
     "data": {
      "text/html": [
       "<div>\n",
       "<style scoped>\n",
       "    .dataframe tbody tr th:only-of-type {\n",
       "        vertical-align: middle;\n",
       "    }\n",
       "\n",
       "    .dataframe tbody tr th {\n",
       "        vertical-align: top;\n",
       "    }\n",
       "\n",
       "    .dataframe thead th {\n",
       "        text-align: right;\n",
       "    }\n",
       "</style>\n",
       "<table border=\"1\" class=\"dataframe\">\n",
       "  <thead>\n",
       "    <tr style=\"text-align: right;\">\n",
       "      <th></th>\n",
       "      <th>VIF Factor</th>\n",
       "      <th>features</th>\n",
       "    </tr>\n",
       "  </thead>\n",
       "  <tbody>\n",
       "    <tr>\n",
       "      <th>0</th>\n",
       "      <td>1639337.6</td>\n",
       "      <td>Intercept</td>\n",
       "    </tr>\n",
       "    <tr>\n",
       "      <th>1</th>\n",
       "      <td>1.4</td>\n",
       "      <td>bedrooms</td>\n",
       "    </tr>\n",
       "    <tr>\n",
       "      <th>2</th>\n",
       "      <td>2.1</td>\n",
       "      <td>bathrooms</td>\n",
       "    </tr>\n",
       "    <tr>\n",
       "      <th>3</th>\n",
       "      <td>1.4</td>\n",
       "      <td>waterfront</td>\n",
       "    </tr>\n",
       "    <tr>\n",
       "      <th>4</th>\n",
       "      <td>1.5</td>\n",
       "      <td>view</td>\n",
       "    </tr>\n",
       "    <tr>\n",
       "      <th>5</th>\n",
       "      <td>2.3</td>\n",
       "      <td>grade</td>\n",
       "    </tr>\n",
       "    <tr>\n",
       "      <th>6</th>\n",
       "      <td>2.9</td>\n",
       "      <td>yr_built</td>\n",
       "    </tr>\n",
       "    <tr>\n",
       "      <th>7</th>\n",
       "      <td>1.1</td>\n",
       "      <td>lat</td>\n",
       "    </tr>\n",
       "    <tr>\n",
       "      <th>8</th>\n",
       "      <td>1.2</td>\n",
       "      <td>long</td>\n",
       "    </tr>\n",
       "    <tr>\n",
       "      <th>9</th>\n",
       "      <td>2.3</td>\n",
       "      <td>sqft_living15</td>\n",
       "    </tr>\n",
       "    <tr>\n",
       "      <th>10</th>\n",
       "      <td>1.1</td>\n",
       "      <td>sqft_lot15</td>\n",
       "    </tr>\n",
       "    <tr>\n",
       "      <th>11</th>\n",
       "      <td>1.1</td>\n",
       "      <td>renovated</td>\n",
       "    </tr>\n",
       "    <tr>\n",
       "      <th>12</th>\n",
       "      <td>1.4</td>\n",
       "      <td>basement</td>\n",
       "    </tr>\n",
       "    <tr>\n",
       "      <th>13</th>\n",
       "      <td>1.2</td>\n",
       "      <td>Floor_1.5</td>\n",
       "    </tr>\n",
       "    <tr>\n",
       "      <th>14</th>\n",
       "      <td>2.5</td>\n",
       "      <td>Floor_2.0</td>\n",
       "    </tr>\n",
       "    <tr>\n",
       "      <th>15</th>\n",
       "      <td>1.0</td>\n",
       "      <td>Floor_2.5</td>\n",
       "    </tr>\n",
       "    <tr>\n",
       "      <th>16</th>\n",
       "      <td>1.0</td>\n",
       "      <td>Floor_3.0</td>\n",
       "    </tr>\n",
       "    <tr>\n",
       "      <th>17</th>\n",
       "      <td>NaN</td>\n",
       "      <td>Floor_3.5</td>\n",
       "    </tr>\n",
       "    <tr>\n",
       "      <th>18</th>\n",
       "      <td>1.0</td>\n",
       "      <td>condition_1</td>\n",
       "    </tr>\n",
       "    <tr>\n",
       "      <th>19</th>\n",
       "      <td>1.0</td>\n",
       "      <td>condition_2</td>\n",
       "    </tr>\n",
       "    <tr>\n",
       "      <th>20</th>\n",
       "      <td>1.3</td>\n",
       "      <td>condition_4</td>\n",
       "    </tr>\n",
       "    <tr>\n",
       "      <th>21</th>\n",
       "      <td>1.2</td>\n",
       "      <td>condition_5</td>\n",
       "    </tr>\n",
       "  </tbody>\n",
       "</table>\n",
       "</div>"
      ],
      "text/plain": [
       "    VIF Factor       features\n",
       "0    1639337.6      Intercept\n",
       "1          1.4       bedrooms\n",
       "2          2.1      bathrooms\n",
       "3          1.4     waterfront\n",
       "4          1.5           view\n",
       "5          2.3          grade\n",
       "6          2.9       yr_built\n",
       "7          1.1            lat\n",
       "8          1.2           long\n",
       "9          2.3  sqft_living15\n",
       "10         1.1     sqft_lot15\n",
       "11         1.1      renovated\n",
       "12         1.4       basement\n",
       "13         1.2      Floor_1.5\n",
       "14         2.5      Floor_2.0\n",
       "15         1.0      Floor_2.5\n",
       "16         1.0      Floor_3.0\n",
       "17         NaN      Floor_3.5\n",
       "18         1.0    condition_1\n",
       "19         1.0    condition_2\n",
       "20         1.3    condition_4\n",
       "21         1.2    condition_5"
      ]
     },
     "execution_count": 97,
     "metadata": {},
     "output_type": "execute_result"
    }
   ],
   "source": [
    "vif2.round(1)"
   ]
  },
  {
   "cell_type": "code",
   "execution_count": 98,
   "metadata": {},
   "outputs": [],
   "source": [
    "#Floor_3.5 변수를 제거해 줍니다."
   ]
  },
  {
   "cell_type": "code",
   "execution_count": 99,
   "metadata": {},
   "outputs": [],
   "source": [
    "X2=pd.DataFrame(X2,columns=['Intercept','bedrooms', 'bathrooms', 'waterfront', 'view', 'grade',\n",
    "       'yr_built', 'lat', 'long', 'sqft_living15', 'sqft_lot15', 'renovated',\n",
    "       'basement', 'Floor_1.5', 'Floor_2.0', 'Floor_2.5',\n",
    "       'Floor_3.0', 'condition_1', 'condition_2', 'condition_4', 'condition_5'])"
   ]
  },
  {
   "cell_type": "code",
   "execution_count": 100,
   "metadata": {},
   "outputs": [],
   "source": [
    "# Fit X to y\n",
    "result = sm.OLS(y2, X2).fit()"
   ]
  },
  {
   "cell_type": "code",
   "execution_count": 101,
   "metadata": {},
   "outputs": [
    {
     "name": "stdout",
     "output_type": "stream",
     "text": [
      "                            OLS Regression Results                            \n",
      "==============================================================================\n",
      "Dep. Variable:                  price   R-squared:                       0.718\n",
      "Model:                            OLS   Adj. R-squared:                  0.717\n",
      "Method:                 Least Squares   F-statistic:                     810.9\n",
      "Date:                Wed, 09 Jan 2019   Prob (F-statistic):               0.00\n",
      "Time:                        08:33:28   Log-Likelihood:                 1449.9\n",
      "No. Observations:                6396   AIC:                            -2858.\n",
      "Df Residuals:                    6375   BIC:                            -2716.\n",
      "Df Model:                          20                                         \n",
      "Covariance Type:            nonrobust                                         \n",
      "=================================================================================\n",
      "                    coef    std err          t      P>|t|      [0.025      0.975]\n",
      "---------------------------------------------------------------------------------\n",
      "Intercept       -18.7216      3.093     -6.053      0.000     -24.785     -12.658\n",
      "bedrooms          0.0287      0.004      7.282      0.000       0.021       0.036\n",
      "bathrooms         0.0637      0.006     10.799      0.000       0.052       0.075\n",
      "waterfront        0.3976      0.031     12.721      0.000       0.336       0.459\n",
      "view              0.0853      0.005     18.765      0.000       0.076       0.094\n",
      "grade             0.1262      0.004     32.939      0.000       0.119       0.134\n",
      "yr_built          0.0012      0.000      6.729      0.000       0.001       0.002\n",
      "lat               1.1558      0.034     34.446      0.000       1.090       1.222\n",
      "long              0.2241      0.019     11.775      0.000       0.187       0.261\n",
      "sqft_living15     0.0002   6.64e-06     25.705      0.000       0.000       0.000\n",
      "sqft_lot15     1.991e-06   7.61e-08     26.157      0.000    1.84e-06    2.14e-06\n",
      "renovated         0.1616      0.015     10.496      0.000       0.131       0.192\n",
      "basement          0.0539      0.007      8.258      0.000       0.041       0.067\n",
      "Floor_1.5         0.0923      0.011      8.071      0.000       0.070       0.115\n",
      "Floor_2.0         0.0556      0.008      7.120      0.000       0.040       0.071\n",
      "Floor_2.5         0.1664      0.052      3.177      0.001       0.064       0.269\n",
      "Floor_3.0         0.0821      0.137      0.600      0.549      -0.186       0.351\n",
      "condition_1      -0.0942      0.087     -1.084      0.279      -0.265       0.076\n",
      "condition_2      -0.0828      0.024     -3.388      0.001      -0.131      -0.035\n",
      "condition_4       0.0641      0.006     10.747      0.000       0.052       0.076\n",
      "condition_5       0.1295      0.011     11.875      0.000       0.108       0.151\n",
      "==============================================================================\n",
      "Omnibus:                      423.660   Durbin-Watson:                   2.031\n",
      "Prob(Omnibus):                  0.000   Jarque-Bera (JB):             1918.292\n",
      "Skew:                           0.128   Prob(JB):                         0.00\n",
      "Kurtosis:                       5.671   Cond. No.                     4.86e+07\n",
      "==============================================================================\n",
      "\n",
      "Warnings:\n",
      "[1] Standard Errors assume that the covariance matrix of the errors is correctly specified.\n",
      "[2] The condition number is large, 4.86e+07. This might indicate that there are\n",
      "strong multicollinearity or other numerical problems.\n"
     ]
    }
   ],
   "source": [
    "print(result.summary())"
   ]
  },
  {
   "cell_type": "code",
   "execution_count": 102,
   "metadata": {},
   "outputs": [
    {
     "name": "stdout",
     "output_type": "stream",
     "text": [
      "singular value : [2.71374322e+06 4.34340527e+04 1.57284837e+03]\n",
      "singular vector :\n",
      " [[-0.00000000e+00 -3.80585110e-19  7.64163325e-21]\n",
      " [-7.83968809e-07  5.28474497e-04 -3.60842912e-03]\n",
      " [ 7.88191648e-07  5.59658683e-04 -1.05376490e-02]\n",
      " [ 1.38190014e-07  4.74809959e-06  6.01178039e-04]\n",
      " [ 3.32341002e-06  1.66552075e-04  6.06475253e-03]\n",
      " [ 3.88630713e-06  1.21315171e-03 -1.11436900e-02]\n",
      " [-1.19035582e-05  2.10681838e-02 -9.99533393e-01]\n",
      " [-1.56257988e-07 -3.54703437e-06  7.15215900e-04]\n",
      " [ 6.61185884e-07  3.21521877e-05 -1.82242805e-03]\n",
      " [ 2.42723347e-03  9.99773942e-01  2.10891846e-02]\n",
      " [ 9.99997054e-01 -2.42644609e-03 -6.30698250e-05]\n",
      " [ 2.10824447e-07 -1.81933585e-05  1.95197940e-03]\n",
      " [ 1.94457645e-07  2.62630450e-05  4.94683678e-03]\n",
      " [ 6.40072957e-07 -4.54586085e-05  2.89035669e-03]\n",
      " [-5.88479150e-07  4.29462195e-04 -1.11523976e-02]\n",
      " [ 1.21102811e-07  1.14185871e-06 -5.58208370e-05]\n",
      " [-1.30969921e-09  5.04889076e-07 -9.66731808e-06]\n",
      " [-4.63893967e-09 -1.16741547e-06  6.01842262e-05]\n",
      " [ 7.61788700e-08 -1.03294720e-05  3.16083900e-04]\n",
      " [ 5.51843510e-07 -1.49737969e-04  5.65069099e-03]\n",
      " [ 8.24467776e-08 -6.92877725e-05  2.44349798e-03]]\n",
      "explained variance ratio : [9.99743561e-01 2.56101322e-04 3.35834128e-07]\n",
      "선택할 차원 수 : 1\n"
     ]
    }
   ],
   "source": [
    "pca = PCA(n_components=3)\n",
    "pca.fit(X2)\n",
    "\n",
    "print('singular value :', pca.singular_values_)\n",
    "print('singular vector :\\n', pca.components_.T)\n",
    "print('explained variance ratio :', pca.explained_variance_ratio_)\n",
    "\n",
    "cumsum = np.cumsum(pca.explained_variance_ratio_)\n",
    "d = np.argmax(cumsum >= 0.95) + 1\n",
    "print('선택할 차원 수 :', d)"
   ]
  },
  {
   "cell_type": "code",
   "execution_count": 103,
   "metadata": {},
   "outputs": [],
   "source": [
    "X2_train, X2_test, y2_train, y2_test = train_test_split(X2, y2, test_size = 0.30, random_state=3)"
   ]
  },
  {
   "cell_type": "code",
   "execution_count": 104,
   "metadata": {},
   "outputs": [
    {
     "name": "stdout",
     "output_type": "stream",
     "text": [
      "Scaled_Ridge: 0.714207 (+/- 0.040216)\n",
      "Scaled_Lasso: -0.005709 (+/- 0.005821)\n",
      "Scaled_Elastic: -0.005709 (+/- 0.005821)\n",
      "Scaled_SVR: 0.714270 (+/- 0.038718)\n",
      "Scaled_RF_reg: 0.715813 (+/- 0.037566)\n",
      "Scaled_ET_reg: 0.715769 (+/- 0.034364)\n",
      "Scaled_BR_reg: 0.717404 (+/- 0.038686)\n",
      "Scaled_Hub-Reg: 0.713269 (+/- 0.038280)\n",
      "Scaled_BayRidge: 0.714053 (+/- 0.040404)\n",
      "Scaled_XGB_reg: 0.765809 (+/- 0.028587)\n",
      "Scaled_DT_reg: 0.461582 (+/- 0.072765)\n",
      "Scaled_KNN_reg: 0.601085 (+/- 0.043786)\n",
      "Scaled_Gboost-Reg: 0.765511 (+/- 0.028744)\n",
      "Scaled_RFR_PCA: -0.016768 (+/- 0.058073)\n",
      "Scaled_XGBR_PCA: 0.298264 (+/- 0.028811)\n"
     ]
    },
    {
     "data": {
      "image/png": "[encoded data removed]",
      "text/plain": [
       "<Figure size 1080x432 with 1 Axes>"
      ]
     },
     "metadata": {
      "needs_background": "light"
     },
     "output_type": "display_data"
    }
   ],
   "source": [
    "pipelines = []\n",
    "seed = 2\n",
    "\n",
    "pipelines.append(\n",
    "                (\"Scaled_Ridge\", \n",
    "                 Pipeline([\n",
    "                     (\"Scaler\", MinMaxScaler()), \n",
    "                     (\"Ridge\", Ridge(random_state=seed, tol=10 ))\n",
    "                      ]))\n",
    "                )\n",
    "pipelines.append(\n",
    "                (\"Scaled_Lasso\", \n",
    "                 Pipeline([\n",
    "                     (\"Scaler\", MinMaxScaler()), \n",
    "                     (\"Lasso\", Lasso(random_state=seed, tol=1))\n",
    "                      ]))\n",
    "                )\n",
    "pipelines.append(\n",
    "                (\"Scaled_Elastic\", \n",
    "                 Pipeline([\n",
    "                     (\"Scaler\", MinMaxScaler()), \n",
    "                     (\"Lasso\", ElasticNet(random_state=seed))\n",
    "                      ]))\n",
    "                )\n",
    "\n",
    "pipelines.append(\n",
    "                (\"Scaled_SVR\",\n",
    "                 Pipeline([\n",
    "                     (\"Scaler\", MinMaxScaler()),\n",
    "                     (\"SVR\",  SVR(kernel='linear', C=1e2, degree=5))\n",
    "                 ])\n",
    "                )\n",
    "                )\n",
    "\n",
    "pipelines.append(\n",
    "                (\"Scaled_RF_reg\",\n",
    "                 Pipeline([\n",
    "                     (\"Scaler\", MinMaxScaler()),\n",
    "                     (\"RF\", RandomForestRegressor(random_state=seed))\n",
    "                 ])\n",
    "                )\n",
    "                )\n",
    "\n",
    "pipelines.append(\n",
    "                (\"Scaled_ET_reg\",\n",
    "                 Pipeline([\n",
    "                     (\"Scaler\", MinMaxScaler()),\n",
    "                     (\"ET\", ExtraTreesRegressor(random_state=seed))\n",
    "                 ])\n",
    "                )\n",
    "                )\n",
    "pipelines.append(\n",
    "                (\"Scaled_BR_reg\",\n",
    "                 Pipeline([\n",
    "                     (\"Scaler\", MinMaxScaler()),\n",
    "                     (\"BR\", BaggingRegressor(random_state=seed))\n",
    "                 ]))) \n",
    "\n",
    "pipelines.append(\n",
    "                (\"Scaled_Hub-Reg\",\n",
    "                 Pipeline([\n",
    "                     (\"Scaler\", MinMaxScaler()),\n",
    "                     (\"Hub-Reg\", HuberRegressor())\n",
    "                 ]))) \n",
    "pipelines.append(\n",
    "                (\"Scaled_BayRidge\",\n",
    "                 Pipeline([\n",
    "                     (\"Scaler\", MinMaxScaler()),\n",
    "                     (\"BR\", BayesianRidge())\n",
    "                 ]))) \n",
    "\n",
    "pipelines.append(\n",
    "                (\"Scaled_XGB_reg\",\n",
    "                 Pipeline([\n",
    "                     (\"Scaler\", MinMaxScaler()),\n",
    "                     (\"XGBR\", XGBRegressor(seed=seed))\n",
    "                 ]))) \n",
    "\n",
    "pipelines.append(\n",
    "                (\"Scaled_DT_reg\",\n",
    "                 Pipeline([\n",
    "                     (\"Scaler\", MinMaxScaler()),\n",
    "                     (\"DT_reg\", DecisionTreeRegressor())\n",
    "                 ]))) \n",
    "\n",
    "pipelines.append(\n",
    "                (\"Scaled_KNN_reg\",\n",
    "                 Pipeline([\n",
    "                     (\"Scaler\", MinMaxScaler()),\n",
    "                     (\"KNN_reg\", KNeighborsRegressor())\n",
    "                 ])))\n",
    "\n",
    "pipelines.append(\n",
    "                (\"Scaled_Gboost-Reg\",\n",
    "                 Pipeline([\n",
    "                     (\"Scaler\", MinMaxScaler()),\n",
    "                     (\"GBoost-Reg\", GradientBoostingRegressor())\n",
    "                 ])))\n",
    "\n",
    "pipelines.append(\n",
    "                (\"Scaled_RFR_PCA\",\n",
    "                 Pipeline([\n",
    "                     (\"Scaler\", MinMaxScaler()),\n",
    "                     (\"PCA\", PCA(n_components=1)),\n",
    "                     (\"XGB\", RandomForestRegressor())\n",
    "                 ])))\n",
    "\n",
    "pipelines.append(\n",
    "                (\"Scaled_XGBR_PCA\",\n",
    "                 Pipeline([\n",
    "                     (\"Scaler\", MinMaxScaler()),\n",
    "                     (\"PCA\", PCA(n_components=1)),\n",
    "                     (\"XGB\", XGBRegressor())\n",
    "                 ])))\n",
    "\n",
    "\n",
    "scoring = 'r2'\n",
    "n_folds = 10\n",
    "\n",
    "results, names  = [], [] \n",
    "\n",
    "for name, model  in pipelines:\n",
    "    kfold = KFold(n_splits=n_folds, random_state=seed)\n",
    "    cv_results = cross_val_score(model, X2_train, y2_train, cv= kfold,\n",
    "                                 scoring=scoring, n_jobs=-1)    \n",
    "    names.append(name)\n",
    "    results.append(cv_results)    \n",
    "    msg = \"%s: %f (+/- %f)\" % (name, cv_results.mean(),  cv_results.std())\n",
    "    print(msg)\n",
    "    \n",
    "# 상자그림을 이용해 알고리즘끼리의 성능 차이를 시각적으로 보여 쥽니다.\n",
    "fig = plt.figure(figsize=(15,6))\n",
    "fig.suptitle('Algorithm Comparison', fontsize=22)\n",
    "ax = fig.add_subplot(111)\n",
    "sns.boxplot(x=names, y=results)\n",
    "ax.set_xticklabels(names)\n",
    "ax.set_xlabel(\"Algorithmn Name\", fontsize=20)\n",
    "ax.set_ylabel(\"R Squared Score of Models\", fontsize=18)\n",
    "ax.set_xticklabels(ax.get_xticklabels(),rotation=45)\n",
    "plt.show()"
   ]
  },
  {
   "cell_type": "code",
   "execution_count": 105,
   "metadata": {},
   "outputs": [],
   "source": [
    "xgb2= XGBRegressor()\n",
    "xgb2_grid_search = GridSearchCV(xgb2, param_grid, n_jobs=-1)\n",
    "xgb2_grid_result = xgb2_grid_search.fit(X2_train, y2_train)"
   ]
  },
  {
   "cell_type": "code",
   "execution_count": 106,
   "metadata": {},
   "outputs": [
    {
     "name": "stdout",
     "output_type": "stream",
     "text": [
      "0.7518085425665797\n"
     ]
    }
   ],
   "source": [
    "print(r2_score(y2_test, xgb2_grid_result.best_estimator_.predict(X2_test)))"
   ]
  },
  {
   "cell_type": "code",
   "execution_count": 107,
   "metadata": {},
   "outputs": [
    {
     "data": {
      "text/plain": [
       "XGBRegressor(base_score=0.5, booster='dart', colsample_bylevel=1,\n",
       "       colsample_bytree=1, gamma=0, learning_rate=0.1, max_delta_step=0,\n",
       "       max_depth=3, min_child_weight=1, missing=None, n_estimators=178,\n",
       "       n_jobs=1, nthread=10, objective='reg:linear', random_state=10,\n",
       "       reg_alpha=0, reg_lambda=1, scale_pos_weight=1, seed=None,\n",
       "       silent=True, subsample=1)"
      ]
     },
     "execution_count": 107,
     "metadata": {},
     "output_type": "execute_result"
    }
   ],
   "source": [
    "xgb2_grid_result.best_estimator_"
   ]
  },
  {
   "cell_type": "code",
   "execution_count": 108,
   "metadata": {},
   "outputs": [
    {
     "name": "stdout",
     "output_type": "stream",
     "text": [
      "Scores = [0.03195959 0.03097825 0.0295953  0.03493956 0.02598659 0.03752384\n",
      " 0.02768812 0.02584372 0.02801632 0.02826011]\n",
      "CV mse: 0.030 +/- 0.004\n"
     ]
    }
   ],
   "source": [
    "xgb2 = XGBRegressor(base_score=0.5, booster='dart', colsample_bylevel=1,\n",
    "       colsample_bytree=1, gamma=0, learning_rate=0.1, max_delta_step=0,\n",
    "       max_depth=3, min_child_weight=1, missing=None, n_estimators=178,\n",
    "       n_jobs=1, nthread=10, objective='reg:linear', random_state=10,\n",
    "       reg_alpha=0, reg_lambda=1, scale_pos_weight=1, seed=None,\n",
    "       silent=True, subsample=1)\n",
    "xgb2_scores = -cross_val_score(xgb2, X2_train, y2_train, cv=10, scoring=\"neg_mean_squared_error\")\n",
    "print('Scores =', xgb2_scores)\n",
    "print('CV mse: %.3f +/- %.3f' % (np.mean(xgb2_scores), np.std(xgb2_scores)))"
   ]
  },
  {
   "cell_type": "code",
   "execution_count": 109,
   "metadata": {},
   "outputs": [
    {
     "data": {
      "text/plain": [
       "<matplotlib.axes._subplots.AxesSubplot at 0x1fb844a8>"
      ]
     },
     "execution_count": 109,
     "metadata": {},
     "output_type": "execute_result"
    },
    {
     "data": {
      "image/png": "[encoded data removed]",
      "text/plain": [
       "<Figure size 1080x576 with 1 Axes>"
      ]
     },
     "metadata": {
      "needs_background": "light"
     },
     "output_type": "display_data"
    }
   ],
   "source": [
    "model2=xgb2.fit(X2_train, y2_train)\n",
    "plt.rcParams['figure.figsize'] = [15, 8]\n",
    "plot_importance(model2)"
   ]
  },
  {
   "cell_type": "code",
   "execution_count": 110,
   "metadata": {},
   "outputs": [],
   "source": [
    "X2_scale = MinMaxScaler().fit(X2_train)\n",
    "X2_train_scaled = X2_scale.transform(X2_train)\n",
    "X2_test_scaled = X2_scale.transform(X2_test)"
   ]
  },
  {
   "cell_type": "code",
   "execution_count": 111,
   "metadata": {},
   "outputs": [],
   "source": [
    "gbr2=GradientBoostingRegressor()\n",
    "gbr2_grid_search = GridSearchCV(gbr2, gbr_grid, n_jobs=-1)\n",
    "gbr2_grid_result = gbr2_grid_search.fit(X2_train_scaled, y2_train)"
   ]
  },
  {
   "cell_type": "code",
   "execution_count": 112,
   "metadata": {},
   "outputs": [
    {
     "name": "stdout",
     "output_type": "stream",
     "text": [
      "0.7404158508788007\n"
     ]
    }
   ],
   "source": [
    "print(r2_score(y2_test, gbr2_grid_result.best_estimator_.predict(X2_test_scaled)))"
   ]
  },
  {
   "cell_type": "code",
   "execution_count": 113,
   "metadata": {},
   "outputs": [
    {
     "data": {
      "text/plain": [
       "GradientBoostingRegressor(alpha=0.9, criterion='friedman_mse', init=None,\n",
       "             learning_rate=0.1, loss='ls', max_depth=2, max_features=None,\n",
       "             max_leaf_nodes=None, min_impurity_decrease=0.0,\n",
       "             min_impurity_split=None, min_samples_leaf=1,\n",
       "             min_samples_split=2, min_weight_fraction_leaf=0.0,\n",
       "             n_estimators=200, n_iter_no_change=None, presort='auto',\n",
       "             random_state=3, subsample=1.0, tol=0.0001,\n",
       "             validation_fraction=0.1, verbose=0, warm_start=False)"
      ]
     },
     "execution_count": 113,
     "metadata": {},
     "output_type": "execute_result"
    }
   ],
   "source": [
    "gbr2_grid_result.best_estimator_"
   ]
  },
  {
   "cell_type": "code",
   "execution_count": 114,
   "metadata": {},
   "outputs": [
    {
     "name": "stdout",
     "output_type": "stream",
     "text": [
      "Scores = [0.03241168 0.03069025 0.02953358 0.03616803 0.02853528 0.03699041\n",
      " 0.02891928 0.02632314 0.02790548 0.02767547]\n",
      "CV mse: 0.031 +/- 0.003\n"
     ]
    }
   ],
   "source": [
    "gbr2 = GradientBoostingRegressor(alpha=0.9, criterion='friedman_mse', init=None,\n",
    "             learning_rate=0.1, loss='ls', max_depth=2, max_features=None,\n",
    "             max_leaf_nodes=None, min_impurity_decrease=0.0,\n",
    "             min_impurity_split=None, min_samples_leaf=1,\n",
    "             min_samples_split=2, min_weight_fraction_leaf=0.0,\n",
    "             n_estimators=200, n_iter_no_change=None, presort='auto',\n",
    "             random_state=3, subsample=1.0, tol=0.0001,\n",
    "             validation_fraction=0.1, verbose=0, warm_start=False)\n",
    "gbr2_scores = -cross_val_score(gbr2, X2_train_scaled, y2_train, cv=10, scoring=\"neg_mean_squared_error\")\n",
    "print('Scores =', gbr2_scores)\n",
    "print('CV mse: %.3f +/- %.3f' % (np.mean(gbr2_scores), np.std(gbr2_scores)))"
   ]
  },
  {
   "cell_type": "markdown",
   "metadata": {},
   "source": [
    "# 결론\n",
    "King County 지역이 위도 47.5를 경계로 가격 차이가 있다는 의미 있는 결과를 도출했습니다.  \n",
    "King County 집의 위치에 따른 집 값 예측에  참고 할 수 있습니다.   \n",
    "# 한계점 \n",
    "집의 가격은 단순히 그 집의 위치나 평수, 방의 개수뿐만 아니라 주변 환경의 영향도 받기 때문에 이런 데이터가 포함되어 있었다면 더 정확한 모델을 만들 수 있었을 거라 생각 합니다. 3~4년전 데이터라 최근의 경향엔 반영할 수 없습니다."
   ]
  }
 ],
 "metadata": {
  "kernelspec": {
   "display_name": "Python 3",
   "language": "python",
   "name": "python3"
  },
  "language_info": {
   "codemirror_mode": {
    "name": "ipython",
    "version": 3
   },
   "file_extension": ".py",
   "mimetype": "text/x-python",
   "name": "python",
   "nbconvert_exporter": "python",
   "pygments_lexer": "ipython3",
   "version": "3.6.7"
  }
 },
 "nbformat": 4,
 "nbformat_minor": 2
}
